{
  "nbformat": 4,
  "nbformat_minor": 0,
  "metadata": {
    "colab": {
      "name": "DeepBeliefNetwork.ipynb",
      "provenance": []
    },
    "kernelspec": {
      "name": "python3",
      "display_name": "Python 3"
    }
  },
  "cells": [
    {
      "cell_type": "markdown",
      "metadata": {
        "id": "HiteHs7-BkqX"
      },
      "source": [
        "### CSE2042 Machine Learning\n",
        "### Deep Belief Network "
      ]
    },
    {
      "cell_type": "markdown",
      "metadata": {
        "id": "VX1XLhmwNFCC"
      },
      "source": [
        "Uploading File:-"
      ]
    },
    {
      "cell_type": "code",
      "metadata": {
        "id": "DfkLXFDxl8sJ",
        "colab": {
          "resources": {
            "http://localhost:8080/nbextensions/google.colab/files.js": {
              "data": "Ly8gQ29weXJpZ2h0IDIwMTcgR29vZ2xlIExMQwovLwovLyBMaWNlbnNlZCB1bmRlciB0aGUgQXBhY2hlIExpY2Vuc2UsIFZlcnNpb24gMi4wICh0aGUgIkxpY2Vuc2UiKTsKLy8geW91IG1heSBub3QgdXNlIHRoaXMgZmlsZSBleGNlcHQgaW4gY29tcGxpYW5jZSB3aXRoIHRoZSBMaWNlbnNlLgovLyBZb3UgbWF5IG9idGFpbiBhIGNvcHkgb2YgdGhlIExpY2Vuc2UgYXQKLy8KLy8gICAgICBodHRwOi8vd3d3LmFwYWNoZS5vcmcvbGljZW5zZXMvTElDRU5TRS0yLjAKLy8KLy8gVW5sZXNzIHJlcXVpcmVkIGJ5IGFwcGxpY2FibGUgbGF3IG9yIGFncmVlZCB0byBpbiB3cml0aW5nLCBzb2Z0d2FyZQovLyBkaXN0cmlidXRlZCB1bmRlciB0aGUgTGljZW5zZSBpcyBkaXN0cmlidXRlZCBvbiBhbiAiQVMgSVMiIEJBU0lTLAovLyBXSVRIT1VUIFdBUlJBTlRJRVMgT1IgQ09ORElUSU9OUyBPRiBBTlkgS0lORCwgZWl0aGVyIGV4cHJlc3Mgb3IgaW1wbGllZC4KLy8gU2VlIHRoZSBMaWNlbnNlIGZvciB0aGUgc3BlY2lmaWMgbGFuZ3VhZ2UgZ292ZXJuaW5nIHBlcm1pc3Npb25zIGFuZAovLyBsaW1pdGF0aW9ucyB1bmRlciB0aGUgTGljZW5zZS4KCi8qKgogKiBAZmlsZW92ZXJ2aWV3IEhlbHBlcnMgZm9yIGdvb2dsZS5jb2xhYiBQeXRob24gbW9kdWxlLgogKi8KKGZ1bmN0aW9uKHNjb3BlKSB7CmZ1bmN0aW9uIHNwYW4odGV4dCwgc3R5bGVBdHRyaWJ1dGVzID0ge30pIHsKICBjb25zdCBlbGVtZW50ID0gZG9jdW1lbnQuY3JlYXRlRWxlbWVudCgnc3BhbicpOwogIGVsZW1lbnQudGV4dENvbnRlbnQgPSB0ZXh0OwogIGZvciAoY29uc3Qga2V5IG9mIE9iamVjdC5rZXlzKHN0eWxlQXR0cmlidXRlcykpIHsKICAgIGVsZW1lbnQuc3R5bGVba2V5XSA9IHN0eWxlQXR0cmlidXRlc1trZXldOwogIH0KICByZXR1cm4gZWxlbWVudDsKfQoKLy8gTWF4IG51bWJlciBvZiBieXRlcyB3aGljaCB3aWxsIGJlIHVwbG9hZGVkIGF0IGEgdGltZS4KY29uc3QgTUFYX1BBWUxPQURfU0laRSA9IDEwMCAqIDEwMjQ7CgpmdW5jdGlvbiBfdXBsb2FkRmlsZXMoaW5wdXRJZCwgb3V0cHV0SWQpIHsKICBjb25zdCBzdGVwcyA9IHVwbG9hZEZpbGVzU3RlcChpbnB1dElkLCBvdXRwdXRJZCk7CiAgY29uc3Qgb3V0cHV0RWxlbWVudCA9IGRvY3VtZW50LmdldEVsZW1lbnRCeUlkKG91dHB1dElkKTsKICAvLyBDYWNoZSBzdGVwcyBvbiB0aGUgb3V0cHV0RWxlbWVudCB0byBtYWtlIGl0IGF2YWlsYWJsZSBmb3IgdGhlIG5leHQgY2FsbAogIC8vIHRvIHVwbG9hZEZpbGVzQ29udGludWUgZnJvbSBQeXRob24uCiAgb3V0cHV0RWxlbWVudC5zdGVwcyA9IHN0ZXBzOwoKICByZXR1cm4gX3VwbG9hZEZpbGVzQ29udGludWUob3V0cHV0SWQpOwp9CgovLyBUaGlzIGlzIHJvdWdobHkgYW4gYXN5bmMgZ2VuZXJhdG9yIChub3Qgc3VwcG9ydGVkIGluIHRoZSBicm93c2VyIHlldCksCi8vIHdoZXJlIHRoZXJlIGFyZSBtdWx0aXBsZSBhc3luY2hyb25vdXMgc3RlcHMgYW5kIHRoZSBQeXRob24gc2lkZSBpcyBnb2luZwovLyB0byBwb2xsIGZvciBjb21wbGV0aW9uIG9mIGVhY2ggc3RlcC4KLy8gVGhpcyB1c2VzIGEgUHJvbWlzZSB0byBibG9jayB0aGUgcHl0aG9uIHNpZGUgb24gY29tcGxldGlvbiBvZiBlYWNoIHN0ZXAsCi8vIHRoZW4gcGFzc2VzIHRoZSByZXN1bHQgb2YgdGhlIHByZXZpb3VzIHN0ZXAgYXMgdGhlIGlucHV0IHRvIHRoZSBuZXh0IHN0ZXAuCmZ1bmN0aW9uIF91cGxvYWRGaWxlc0NvbnRpbnVlKG91dHB1dElkKSB7CiAgY29uc3Qgb3V0cHV0RWxlbWVudCA9IGRvY3VtZW50LmdldEVsZW1lbnRCeUlkKG91dHB1dElkKTsKICBjb25zdCBzdGVwcyA9IG91dHB1dEVsZW1lbnQuc3RlcHM7CgogIGNvbnN0IG5leHQgPSBzdGVwcy5uZXh0KG91dHB1dEVsZW1lbnQubGFzdFByb21pc2VWYWx1ZSk7CiAgcmV0dXJuIFByb21pc2UucmVzb2x2ZShuZXh0LnZhbHVlLnByb21pc2UpLnRoZW4oKHZhbHVlKSA9PiB7CiAgICAvLyBDYWNoZSB0aGUgbGFzdCBwcm9taXNlIHZhbHVlIHRvIG1ha2UgaXQgYXZhaWxhYmxlIHRvIHRoZSBuZXh0CiAgICAvLyBzdGVwIG9mIHRoZSBnZW5lcmF0b3IuCiAgICBvdXRwdXRFbGVtZW50Lmxhc3RQcm9taXNlVmFsdWUgPSB2YWx1ZTsKICAgIHJldHVybiBuZXh0LnZhbHVlLnJlc3BvbnNlOwogIH0pOwp9CgovKioKICogR2VuZXJhdG9yIGZ1bmN0aW9uIHdoaWNoIGlzIGNhbGxlZCBiZXR3ZWVuIGVhY2ggYXN5bmMgc3RlcCBvZiB0aGUgdXBsb2FkCiAqIHByb2Nlc3MuCiAqIEBwYXJhbSB7c3RyaW5nfSBpbnB1dElkIEVsZW1lbnQgSUQgb2YgdGhlIGlucHV0IGZpbGUgcGlja2VyIGVsZW1lbnQuCiAqIEBwYXJhbSB7c3RyaW5nfSBvdXRwdXRJZCBFbGVtZW50IElEIG9mIHRoZSBvdXRwdXQgZGlzcGxheS4KICogQHJldHVybiB7IUl0ZXJhYmxlPCFPYmplY3Q+fSBJdGVyYWJsZSBvZiBuZXh0IHN0ZXBzLgogKi8KZnVuY3Rpb24qIHVwbG9hZEZpbGVzU3RlcChpbnB1dElkLCBvdXRwdXRJZCkgewogIGNvbnN0IGlucHV0RWxlbWVudCA9IGRvY3VtZW50LmdldEVsZW1lbnRCeUlkKGlucHV0SWQpOwogIGlucHV0RWxlbWVudC5kaXNhYmxlZCA9IGZhbHNlOwoKICBjb25zdCBvdXRwdXRFbGVtZW50ID0gZG9jdW1lbnQuZ2V0RWxlbWVudEJ5SWQob3V0cHV0SWQpOwogIG91dHB1dEVsZW1lbnQuaW5uZXJIVE1MID0gJyc7CgogIGNvbnN0IHBpY2tlZFByb21pc2UgPSBuZXcgUHJvbWlzZSgocmVzb2x2ZSkgPT4gewogICAgaW5wdXRFbGVtZW50LmFkZEV2ZW50TGlzdGVuZXIoJ2NoYW5nZScsIChlKSA9PiB7CiAgICAgIHJlc29sdmUoZS50YXJnZXQuZmlsZXMpOwogICAgfSk7CiAgfSk7CgogIGNvbnN0IGNhbmNlbCA9IGRvY3VtZW50LmNyZWF0ZUVsZW1lbnQoJ2J1dHRvbicpOwogIGlucHV0RWxlbWVudC5wYXJlbnRFbGVtZW50LmFwcGVuZENoaWxkKGNhbmNlbCk7CiAgY2FuY2VsLnRleHRDb250ZW50ID0gJ0NhbmNlbCB1cGxvYWQnOwogIGNvbnN0IGNhbmNlbFByb21pc2UgPSBuZXcgUHJvbWlzZSgocmVzb2x2ZSkgPT4gewogICAgY2FuY2VsLm9uY2xpY2sgPSAoKSA9PiB7CiAgICAgIHJlc29sdmUobnVsbCk7CiAgICB9OwogIH0pOwoKICAvLyBXYWl0IGZvciB0aGUgdXNlciB0byBwaWNrIHRoZSBmaWxlcy4KICBjb25zdCBmaWxlcyA9IHlpZWxkIHsKICAgIHByb21pc2U6IFByb21pc2UucmFjZShbcGlja2VkUHJvbWlzZSwgY2FuY2VsUHJvbWlzZV0pLAogICAgcmVzcG9uc2U6IHsKICAgICAgYWN0aW9uOiAnc3RhcnRpbmcnLAogICAgfQogIH07CgogIGNhbmNlbC5yZW1vdmUoKTsKCiAgLy8gRGlzYWJsZSB0aGUgaW5wdXQgZWxlbWVudCBzaW5jZSBmdXJ0aGVyIHBpY2tzIGFyZSBub3QgYWxsb3dlZC4KICBpbnB1dEVsZW1lbnQuZGlzYWJsZWQgPSB0cnVlOwoKICBpZiAoIWZpbGVzKSB7CiAgICByZXR1cm4gewogICAgICByZXNwb25zZTogewogICAgICAgIGFjdGlvbjogJ2NvbXBsZXRlJywKICAgICAgfQogICAgfTsKICB9CgogIGZvciAoY29uc3QgZmlsZSBvZiBmaWxlcykgewogICAgY29uc3QgbGkgPSBkb2N1bWVudC5jcmVhdGVFbGVtZW50KCdsaScpOwogICAgbGkuYXBwZW5kKHNwYW4oZmlsZS5uYW1lLCB7Zm9udFdlaWdodDogJ2JvbGQnfSkpOwogICAgbGkuYXBwZW5kKHNwYW4oCiAgICAgICAgYCgke2ZpbGUudHlwZSB8fCAnbi9hJ30pIC0gJHtmaWxlLnNpemV9IGJ5dGVzLCBgICsKICAgICAgICBgbGFzdCBtb2RpZmllZDogJHsKICAgICAgICAgICAgZmlsZS5sYXN0TW9kaWZpZWREYXRlID8gZmlsZS5sYXN0TW9kaWZpZWREYXRlLnRvTG9jYWxlRGF0ZVN0cmluZygpIDoKICAgICAgICAgICAgICAgICAgICAgICAgICAgICAgICAgICAgJ24vYSd9IC0gYCkpOwogICAgY29uc3QgcGVyY2VudCA9IHNwYW4oJzAlIGRvbmUnKTsKICAgIGxpLmFwcGVuZENoaWxkKHBlcmNlbnQpOwoKICAgIG91dHB1dEVsZW1lbnQuYXBwZW5kQ2hpbGQobGkpOwoKICAgIGNvbnN0IGZpbGVEYXRhUHJvbWlzZSA9IG5ldyBQcm9taXNlKChyZXNvbHZlKSA9PiB7CiAgICAgIGNvbnN0IHJlYWRlciA9IG5ldyBGaWxlUmVhZGVyKCk7CiAgICAgIHJlYWRlci5vbmxvYWQgPSAoZSkgPT4gewogICAgICAgIHJlc29sdmUoZS50YXJnZXQucmVzdWx0KTsKICAgICAgfTsKICAgICAgcmVhZGVyLnJlYWRBc0FycmF5QnVmZmVyKGZpbGUpOwogICAgfSk7CiAgICAvLyBXYWl0IGZvciB0aGUgZGF0YSB0byBiZSByZWFkeS4KICAgIGxldCBmaWxlRGF0YSA9IHlpZWxkIHsKICAgICAgcHJvbWlzZTogZmlsZURhdGFQcm9taXNlLAogICAgICByZXNwb25zZTogewogICAgICAgIGFjdGlvbjogJ2NvbnRpbnVlJywKICAgICAgfQogICAgfTsKCiAgICAvLyBVc2UgYSBjaHVua2VkIHNlbmRpbmcgdG8gYXZvaWQgbWVzc2FnZSBzaXplIGxpbWl0cy4gU2VlIGIvNjIxMTU2NjAuCiAgICBsZXQgcG9zaXRpb24gPSAwOwogICAgZG8gewogICAgICBjb25zdCBsZW5ndGggPSBNYXRoLm1pbihmaWxlRGF0YS5ieXRlTGVuZ3RoIC0gcG9zaXRpb24sIE1BWF9QQVlMT0FEX1NJWkUpOwogICAgICBjb25zdCBjaHVuayA9IG5ldyBVaW50OEFycmF5KGZpbGVEYXRhLCBwb3NpdGlvbiwgbGVuZ3RoKTsKICAgICAgcG9zaXRpb24gKz0gbGVuZ3RoOwoKICAgICAgY29uc3QgYmFzZTY0ID0gYnRvYShTdHJpbmcuZnJvbUNoYXJDb2RlLmFwcGx5KG51bGwsIGNodW5rKSk7CiAgICAgIHlpZWxkIHsKICAgICAgICByZXNwb25zZTogewogICAgICAgICAgYWN0aW9uOiAnYXBwZW5kJywKICAgICAgICAgIGZpbGU6IGZpbGUubmFtZSwKICAgICAgICAgIGRhdGE6IGJhc2U2NCwKICAgICAgICB9LAogICAgICB9OwoKICAgICAgbGV0IHBlcmNlbnREb25lID0gZmlsZURhdGEuYnl0ZUxlbmd0aCA9PT0gMCA/CiAgICAgICAgICAxMDAgOgogICAgICAgICAgTWF0aC5yb3VuZCgocG9zaXRpb24gLyBmaWxlRGF0YS5ieXRlTGVuZ3RoKSAqIDEwMCk7CiAgICAgIHBlcmNlbnQudGV4dENvbnRlbnQgPSBgJHtwZXJjZW50RG9uZX0lIGRvbmVgOwoKICAgIH0gd2hpbGUgKHBvc2l0aW9uIDwgZmlsZURhdGEuYnl0ZUxlbmd0aCk7CiAgfQoKICAvLyBBbGwgZG9uZS4KICB5aWVsZCB7CiAgICByZXNwb25zZTogewogICAgICBhY3Rpb246ICdjb21wbGV0ZScsCiAgICB9CiAgfTsKfQoKc2NvcGUuZ29vZ2xlID0gc2NvcGUuZ29vZ2xlIHx8IHt9OwpzY29wZS5nb29nbGUuY29sYWIgPSBzY29wZS5nb29nbGUuY29sYWIgfHwge307CnNjb3BlLmdvb2dsZS5jb2xhYi5fZmlsZXMgPSB7CiAgX3VwbG9hZEZpbGVzLAogIF91cGxvYWRGaWxlc0NvbnRpbnVlLAp9Owp9KShzZWxmKTsK",
              "ok": true,
              "headers": [
                [
                  "content-type",
                  "application/javascript"
                ]
              ],
              "status": 200,
              "status_text": ""
            }
          },
          "base_uri": "https://localhost:8080/",
          "height": 73
        },
        "outputId": "1abaeb52-45fa-41cd-e696-221ac8c2f6d2"
      },
      "source": [
        "from google.colab import files\n",
        "uploaded=files.upload()"
      ],
      "execution_count": null,
      "outputs": [
        {
          "output_type": "display_data",
          "data": {
            "text/html": [
              "\n",
              "     <input type=\"file\" id=\"files-1700f968-a23c-42c7-998f-4352abacb1dc\" name=\"files[]\" multiple disabled\n",
              "        style=\"border:none\" />\n",
              "     <output id=\"result-1700f968-a23c-42c7-998f-4352abacb1dc\">\n",
              "      Upload widget is only available when the cell has been executed in the\n",
              "      current browser session. Please rerun this cell to enable.\n",
              "      </output>\n",
              "      <script src=\"/nbextensions/google.colab/files.js\"></script> "
            ],
            "text/plain": [
              "<IPython.core.display.HTML object>"
            ]
          },
          "metadata": {}
        },
        {
          "output_type": "stream",
          "name": "stdout",
          "text": [
            "Saving columba.csv to columba.csv\n"
          ]
        }
      ]
    },
    {
      "cell_type": "markdown",
      "metadata": {
        "id": "0xFmrA2iNIl_"
      },
      "source": [
        "Importing Packages:-"
      ]
    },
    {
      "cell_type": "code",
      "metadata": {
        "id": "sK42BBJgmSGh"
      },
      "source": [
        "import tensorflow as tf\n",
        "from sklearn.metrics import log_loss, accuracy_score\n",
        "import numpy as np\n",
        "import pandas as pd\n",
        "import matplotlib.pyplot as plt"
      ],
      "execution_count": null,
      "outputs": []
    },
    {
      "cell_type": "markdown",
      "metadata": {
        "id": "hNJJhn5yNNAt"
      },
      "source": [
        "Reading dataset:- "
      ]
    },
    {
      "cell_type": "code",
      "metadata": {
        "id": "lhdWip5AmSQd"
      },
      "source": [
        "df= pd.read_csv('columba.csv')"
      ],
      "execution_count": null,
      "outputs": []
    },
    {
      "cell_type": "markdown",
      "metadata": {
        "id": "5caoyCDENSmb"
      },
      "source": [
        "**Defining Normalization Function :-**\n",
        "\n",
        "Min-Max Re-scaling: \n",
        "Shifting and squeezing a distribution to fit on a scale between 0 and 1. Min-Max Re-scaling is useful for comparing distributions with different scales or different shapes."
      ]
    },
    {
      "cell_type": "code",
      "metadata": {
        "id": "bVSQXhUkmSvC"
      },
      "source": [
        "def normalize(x):\n",
        "  x = x.astype(float)\n",
        "  min = np.min(x)\n",
        "  max = np.max(x)\n",
        "  return (x - min)/(max-min)"
      ],
      "execution_count": null,
      "outputs": []
    },
    {
      "cell_type": "markdown",
      "metadata": {
        "id": "pGy5UlIlRa2Q"
      },
      "source": [
        "**Defining Viewing Function :-**"
      ]
    },
    {
      "cell_type": "code",
      "metadata": {
        "id": "6Se7DitSs9xa"
      },
      "source": [
        "def view_values(X, y, example):\n",
        "    label = y.loc[example]\n",
        "    image = X.loc[example,:].values.reshape([-1,1])\n",
        "    print(image)"
      ],
      "execution_count": null,
      "outputs": []
    },
    {
      "cell_type": "markdown",
      "metadata": {
        "id": "mm3Gx8K8ShJ_"
      },
      "source": [
        "**Dimensions of Dataset Used:-**"
      ]
    },
    {
      "cell_type": "code",
      "metadata": {
        "id": "nwQh30ySJCSA",
        "colab": {
          "base_uri": "https://localhost:8080/"
        },
        "outputId": "6f97aec9-94c7-48d5-f70c-600481216a8c"
      },
      "source": [
        "print(\"Shape of dataframe: \", df.shape)   #train"
      ],
      "execution_count": null,
      "outputs": [
        {
          "output_type": "stream",
          "name": "stdout",
          "text": [
            "Shape of dataframe:  (4455, 17)\n"
          ]
        }
      ]
    },
    {
      "cell_type": "code",
      "metadata": {
        "id": "944gS403nFTq",
        "colab": {
          "base_uri": "https://localhost:8080/",
          "height": 315
        },
        "outputId": "e70394fe-bc5d-4d63-bf11-135d942c3003"
      },
      "source": [
        "df.describe()"
      ],
      "execution_count": null,
      "outputs": [
        {
          "output_type": "execute_result",
          "data": {
            "text/html": [
              "<div>\n",
              "<style scoped>\n",
              "    .dataframe tbody tr th:only-of-type {\n",
              "        vertical-align: middle;\n",
              "    }\n",
              "\n",
              "    .dataframe tbody tr th {\n",
              "        vertical-align: top;\n",
              "    }\n",
              "\n",
              "    .dataframe thead th {\n",
              "        text-align: right;\n",
              "    }\n",
              "</style>\n",
              "<table border=\"1\" class=\"dataframe\">\n",
              "  <thead>\n",
              "    <tr style=\"text-align: right;\">\n",
              "      <th></th>\n",
              "      <th>transactionid</th>\n",
              "      <th>ns</th>\n",
              "      <th>nm</th>\n",
              "      <th>nf</th>\n",
              "      <th>entropy</th>\n",
              "      <th>la</th>\n",
              "      <th>ld</th>\n",
              "      <th>lt</th>\n",
              "      <th>fix</th>\n",
              "      <th>ndev</th>\n",
              "      <th>pd</th>\n",
              "      <th>npt</th>\n",
              "      <th>exp</th>\n",
              "      <th>rexp</th>\n",
              "      <th>sexp</th>\n",
              "      <th>bug</th>\n",
              "    </tr>\n",
              "  </thead>\n",
              "  <tbody>\n",
              "    <tr>\n",
              "      <th>count</th>\n",
              "      <td>4455.000000</td>\n",
              "      <td>4455.000000</td>\n",
              "      <td>4455.000000</td>\n",
              "      <td>4455.000000</td>\n",
              "      <td>4455.000000</td>\n",
              "      <td>4455.000000</td>\n",
              "      <td>4455.000000</td>\n",
              "      <td>4455.000000</td>\n",
              "      <td>4455.000000</td>\n",
              "      <td>4455.000000</td>\n",
              "      <td>4455.000000</td>\n",
              "      <td>4455.000000</td>\n",
              "      <td>4455.000000</td>\n",
              "      <td>4455.000000</td>\n",
              "      <td>4455.000000</td>\n",
              "      <td>4455.000000</td>\n",
              "    </tr>\n",
              "    <tr>\n",
              "      <th>mean</th>\n",
              "      <td>20755.311111</td>\n",
              "      <td>1.033895</td>\n",
              "      <td>2.723232</td>\n",
              "      <td>6.195062</td>\n",
              "      <td>0.276536</td>\n",
              "      <td>0.240541</td>\n",
              "      <td>0.207428</td>\n",
              "      <td>114.242257</td>\n",
              "      <td>0.328395</td>\n",
              "      <td>3.215039</td>\n",
              "      <td>313.799327</td>\n",
              "      <td>0.811778</td>\n",
              "      <td>5593.237486</td>\n",
              "      <td>2872.446725</td>\n",
              "      <td>4725.505948</td>\n",
              "      <td>0.305499</td>\n",
              "    </tr>\n",
              "    <tr>\n",
              "      <th>std</th>\n",
              "      <td>8908.332706</td>\n",
              "      <td>0.244326</td>\n",
              "      <td>7.157377</td>\n",
              "      <td>29.780824</td>\n",
              "      <td>0.377132</td>\n",
              "      <td>0.603062</td>\n",
              "      <td>0.597337</td>\n",
              "      <td>121.745608</td>\n",
              "      <td>0.469682</td>\n",
              "      <td>2.381922</td>\n",
              "      <td>4104.655868</td>\n",
              "      <td>0.284510</td>\n",
              "      <td>5753.802244</td>\n",
              "      <td>2344.544857</td>\n",
              "      <td>5092.376052</td>\n",
              "      <td>0.460670</td>\n",
              "    </tr>\n",
              "    <tr>\n",
              "      <th>min</th>\n",
              "      <td>1.000000</td>\n",
              "      <td>1.000000</td>\n",
              "      <td>1.000000</td>\n",
              "      <td>1.000000</td>\n",
              "      <td>0.000000</td>\n",
              "      <td>0.000000</td>\n",
              "      <td>0.000000</td>\n",
              "      <td>0.000000</td>\n",
              "      <td>0.000000</td>\n",
              "      <td>1.000000</td>\n",
              "      <td>0.000000</td>\n",
              "      <td>0.003077</td>\n",
              "      <td>1.000000</td>\n",
              "      <td>1.000000</td>\n",
              "      <td>1.000000</td>\n",
              "      <td>0.000000</td>\n",
              "    </tr>\n",
              "    <tr>\n",
              "      <th>25%</th>\n",
              "      <td>14289.500000</td>\n",
              "      <td>1.000000</td>\n",
              "      <td>1.000000</td>\n",
              "      <td>1.000000</td>\n",
              "      <td>0.000000</td>\n",
              "      <td>0.000000</td>\n",
              "      <td>0.000000</td>\n",
              "      <td>38.000000</td>\n",
              "      <td>0.000000</td>\n",
              "      <td>1.000000</td>\n",
              "      <td>0.000000</td>\n",
              "      <td>0.600000</td>\n",
              "      <td>654.500000</td>\n",
              "      <td>609.375000</td>\n",
              "      <td>510.500000</td>\n",
              "      <td>0.000000</td>\n",
              "    </tr>\n",
              "    <tr>\n",
              "      <th>50%</th>\n",
              "      <td>21404.000000</td>\n",
              "      <td>1.000000</td>\n",
              "      <td>1.000000</td>\n",
              "      <td>2.000000</td>\n",
              "      <td>0.000000</td>\n",
              "      <td>0.048363</td>\n",
              "      <td>0.028302</td>\n",
              "      <td>77.000000</td>\n",
              "      <td>0.000000</td>\n",
              "      <td>3.000000</td>\n",
              "      <td>13.000000</td>\n",
              "      <td>1.000000</td>\n",
              "      <td>2784.000000</td>\n",
              "      <td>2784.000000</td>\n",
              "      <td>2061.000000</td>\n",
              "      <td>0.000000</td>\n",
              "    </tr>\n",
              "    <tr>\n",
              "      <th>75%</th>\n",
              "      <td>28080.000000</td>\n",
              "      <td>1.000000</td>\n",
              "      <td>2.000000</td>\n",
              "      <td>4.000000</td>\n",
              "      <td>0.666534</td>\n",
              "      <td>0.213538</td>\n",
              "      <td>0.142857</td>\n",
              "      <td>150.000000</td>\n",
              "      <td>1.000000</td>\n",
              "      <td>4.000000</td>\n",
              "      <td>91.000000</td>\n",
              "      <td>1.000000</td>\n",
              "      <td>10253.000000</td>\n",
              "      <td>5132.500000</td>\n",
              "      <td>8392.500000</td>\n",
              "      <td>1.000000</td>\n",
              "    </tr>\n",
              "    <tr>\n",
              "      <th>max</th>\n",
              "      <td>35139.000000</td>\n",
              "      <td>6.000000</td>\n",
              "      <td>252.000000</td>\n",
              "      <td>1297.000000</td>\n",
              "      <td>1.000000</td>\n",
              "      <td>21.000000</td>\n",
              "      <td>18.000000</td>\n",
              "      <td>1371.000000</td>\n",
              "      <td>1.000000</td>\n",
              "      <td>15.000000</td>\n",
              "      <td>238874.000000</td>\n",
              "      <td>1.000000</td>\n",
              "      <td>21164.000000</td>\n",
              "      <td>8367.008333</td>\n",
              "      <td>19576.000000</td>\n",
              "      <td>1.000000</td>\n",
              "    </tr>\n",
              "  </tbody>\n",
              "</table>\n",
              "</div>"
            ],
            "text/plain": [
              "       transactionid           ns  ...          sexp          bug\n",
              "count    4455.000000  4455.000000  ...   4455.000000  4455.000000\n",
              "mean    20755.311111     1.033895  ...   4725.505948     0.305499\n",
              "std      8908.332706     0.244326  ...   5092.376052     0.460670\n",
              "min         1.000000     1.000000  ...      1.000000     0.000000\n",
              "25%     14289.500000     1.000000  ...    510.500000     0.000000\n",
              "50%     21404.000000     1.000000  ...   2061.000000     0.000000\n",
              "75%     28080.000000     1.000000  ...   8392.500000     1.000000\n",
              "max     35139.000000     6.000000  ...  19576.000000     1.000000\n",
              "\n",
              "[8 rows x 16 columns]"
            ]
          },
          "metadata": {},
          "execution_count": 93
        }
      ]
    },
    {
      "cell_type": "markdown",
      "metadata": {
        "id": "qdpzHtRbSpsd"
      },
      "source": [
        "Viewing Contents:-"
      ]
    },
    {
      "cell_type": "code",
      "metadata": {
        "id": "_1p5DpIHnP1j",
        "colab": {
          "base_uri": "https://localhost:8080/",
          "height": 203
        },
        "outputId": "0f4ffc32-da2c-4462-d195-975346502992"
      },
      "source": [
        "df.head()"
      ],
      "execution_count": null,
      "outputs": [
        {
          "output_type": "execute_result",
          "data": {
            "text/html": [
              "<div>\n",
              "<style scoped>\n",
              "    .dataframe tbody tr th:only-of-type {\n",
              "        vertical-align: middle;\n",
              "    }\n",
              "\n",
              "    .dataframe tbody tr th {\n",
              "        vertical-align: top;\n",
              "    }\n",
              "\n",
              "    .dataframe thead th {\n",
              "        text-align: right;\n",
              "    }\n",
              "</style>\n",
              "<table border=\"1\" class=\"dataframe\">\n",
              "  <thead>\n",
              "    <tr style=\"text-align: right;\">\n",
              "      <th></th>\n",
              "      <th>transactionid</th>\n",
              "      <th>commitdate</th>\n",
              "      <th>ns</th>\n",
              "      <th>nm</th>\n",
              "      <th>nf</th>\n",
              "      <th>entropy</th>\n",
              "      <th>la</th>\n",
              "      <th>ld</th>\n",
              "      <th>lt</th>\n",
              "      <th>fix</th>\n",
              "      <th>ndev</th>\n",
              "      <th>pd</th>\n",
              "      <th>npt</th>\n",
              "      <th>exp</th>\n",
              "      <th>rexp</th>\n",
              "      <th>sexp</th>\n",
              "      <th>bug</th>\n",
              "    </tr>\n",
              "  </thead>\n",
              "  <tbody>\n",
              "    <tr>\n",
              "      <th>0</th>\n",
              "      <td>1</td>\n",
              "      <td>2006/7/8 9:06</td>\n",
              "      <td>1</td>\n",
              "      <td>2</td>\n",
              "      <td>2</td>\n",
              "      <td>0.954434</td>\n",
              "      <td>0.102564</td>\n",
              "      <td>0.102564</td>\n",
              "      <td>39.0</td>\n",
              "      <td>0</td>\n",
              "      <td>1</td>\n",
              "      <td>53</td>\n",
              "      <td>1.0</td>\n",
              "      <td>21140</td>\n",
              "      <td>8343.008333</td>\n",
              "      <td>1188</td>\n",
              "      <td>0</td>\n",
              "    </tr>\n",
              "    <tr>\n",
              "      <th>1</th>\n",
              "      <td>6</td>\n",
              "      <td>2006/5/28 22:53</td>\n",
              "      <td>1</td>\n",
              "      <td>3</td>\n",
              "      <td>3</td>\n",
              "      <td>0.693298</td>\n",
              "      <td>0.333333</td>\n",
              "      <td>0.091503</td>\n",
              "      <td>102.0</td>\n",
              "      <td>0</td>\n",
              "      <td>6</td>\n",
              "      <td>24</td>\n",
              "      <td>1.0</td>\n",
              "      <td>70</td>\n",
              "      <td>70.000000</td>\n",
              "      <td>70</td>\n",
              "      <td>0</td>\n",
              "    </tr>\n",
              "    <tr>\n",
              "      <th>2</th>\n",
              "      <td>10</td>\n",
              "      <td>2006/5/4 11:48</td>\n",
              "      <td>1</td>\n",
              "      <td>1</td>\n",
              "      <td>1</td>\n",
              "      <td>0.000000</td>\n",
              "      <td>0.097345</td>\n",
              "      <td>0.044248</td>\n",
              "      <td>113.0</td>\n",
              "      <td>1</td>\n",
              "      <td>3</td>\n",
              "      <td>41</td>\n",
              "      <td>1.0</td>\n",
              "      <td>2402</td>\n",
              "      <td>713.716667</td>\n",
              "      <td>2396</td>\n",
              "      <td>0</td>\n",
              "    </tr>\n",
              "    <tr>\n",
              "      <th>3</th>\n",
              "      <td>28</td>\n",
              "      <td>2005/9/27 11:09</td>\n",
              "      <td>1</td>\n",
              "      <td>3</td>\n",
              "      <td>4</td>\n",
              "      <td>0.894836</td>\n",
              "      <td>0.035484</td>\n",
              "      <td>0.034409</td>\n",
              "      <td>232.5</td>\n",
              "      <td>0</td>\n",
              "      <td>8</td>\n",
              "      <td>97</td>\n",
              "      <td>1.0</td>\n",
              "      <td>16307</td>\n",
              "      <td>5914.816667</td>\n",
              "      <td>15716</td>\n",
              "      <td>0</td>\n",
              "    </tr>\n",
              "    <tr>\n",
              "      <th>4</th>\n",
              "      <td>41</td>\n",
              "      <td>2005/1/24 11:41</td>\n",
              "      <td>1</td>\n",
              "      <td>1</td>\n",
              "      <td>1</td>\n",
              "      <td>0.000000</td>\n",
              "      <td>0.103234</td>\n",
              "      <td>0.004975</td>\n",
              "      <td>804.0</td>\n",
              "      <td>0</td>\n",
              "      <td>4</td>\n",
              "      <td>8</td>\n",
              "      <td>1.0</td>\n",
              "      <td>1778</td>\n",
              "      <td>712.283333</td>\n",
              "      <td>1774</td>\n",
              "      <td>1</td>\n",
              "    </tr>\n",
              "  </tbody>\n",
              "</table>\n",
              "</div>"
            ],
            "text/plain": [
              "   transactionid       commitdate  ns  nm  ...    exp         rexp   sexp  bug\n",
              "0              1    2006/7/8 9:06   1   2  ...  21140  8343.008333   1188    0\n",
              "1              6  2006/5/28 22:53   1   3  ...     70    70.000000     70    0\n",
              "2             10   2006/5/4 11:48   1   1  ...   2402   713.716667   2396    0\n",
              "3             28  2005/9/27 11:09   1   3  ...  16307  5914.816667  15716    0\n",
              "4             41  2005/1/24 11:41   1   1  ...   1778   712.283333   1774    1\n",
              "\n",
              "[5 rows x 17 columns]"
            ]
          },
          "metadata": {},
          "execution_count": 94
        }
      ]
    },
    {
      "cell_type": "code",
      "metadata": {
        "id": "bNlmKpGBo7Kp"
      },
      "source": [
        "#More visual way to see the values in the layer\n",
        "\n",
        "def view_gradient(X, y, example):\n",
        "    label = y.loc[example]\n",
        "    image = X.loc[example,:].values.reshape([14,1])\n",
        "    plt.title('Example: %d  Label: %d' % (example, label))\n",
        "    plt.imshow(image, cmap=plt.get_cmap('gray'))\n",
        "    plt.show()"
      ],
      "execution_count": null,
      "outputs": []
    },
    {
      "cell_type": "markdown",
      "metadata": {
        "id": "f57wE2r_oTW8"
      },
      "source": [
        "### RBM\n",
        "\n",
        "Restricted Boltzmann Machine is an unsupervised learning algorithm.\n",
        "It has a visible layer of neurons that receives input data which is multiplied by some weights and added to a bias value at the hidden layer neuron to generate output. Then the output value generated at the hidden layer neuron will become a new input which is then multiplied with the same weights and then bias of the visible layer will be added to regenerate input. This process is called reconstruction or backward pass. Then the regenerated input will be compared with the original input if it matches or not. This process will keep on happening until the regenerated input is aligned with the original input."
      ]
    },
    {
      "cell_type": "code",
      "metadata": {
        "id": "pS-1UJMM6WUH"
      },
      "source": [
        "# Define RBM class\n",
        "class RBM(object):\n",
        "    \n",
        "    def __init__(self, input_size, output_size, \n",
        "                 learning_rate, epochs, batchsize):\n",
        "        # Define hyperparameters:used to control learning process\n",
        "        self._input_size = input_size\n",
        "        self._output_size = output_size\n",
        "        self.learning_rate = learning_rate # variables which determine how the network is trained\n",
        "        self.epochs = epochs #The number of epochs is a hyperparameter that defines the number times that the learning algorithm will work \n",
        "                             #through the entire training dataset\n",
        "        self.batchsize = batchsize #batch size is a hyperparameter that defines the number of samples to work through \n",
        "                                   #before updating the internal model parameters.\n",
        "        \n",
        "        # Initialize weights and biases using zero matrices\n",
        "         ##np.zeros:-returns a new array of given shape and type\n",
        "        self.w = np.zeros([input_size, output_size], dtype=np.float32)\n",
        "        self.hb = np.zeros([output_size], dtype=np.float32)\n",
        "        self.vb = np.zeros([input_size], dtype=np.float32)\n",
        "    # forward pass, where h is the hidden layer and v is the visible layer\n",
        "       ##Calculate the activation value of the Sigmoid() function from the visible layer to the hidden layer\n",
        "    def prob_h_given_v(self, visible, w, hb):\n",
        "        return tf.nn.sigmoid(tf.matmul(visible, w) + hb) #matmul() function returns the matrix product of two arrays\n",
        "    # backward pass\n",
        "      ##Calculate the activation value of the Sigmoid() function from the hidden layer to the visible layer\n",
        "    def prob_v_given_h(self, hidden, w, vb):\n",
        "        return tf.nn.sigmoid(tf.matmul(hidden, tf.transpose(w)) + vb)\n",
        "    # sampling function\n",
        "      ##Sampling according to the given probability\n",
        "    def sample_prob(self, probs):\n",
        "        return tf.nn.relu(tf.sign(probs - tf.random_uniform(tf.shape(probs))))\n",
        "\n",
        "    def train(self, X):\n",
        "        #A placeholder is simply a variable that we will assign data to at a later date\n",
        "        _w = tf.placeholder(tf.float32, [self._input_size, self._output_size])\n",
        "        _hb = tf.placeholder(tf.float32, [self._output_size])\n",
        "        _vb = tf.placeholder(tf.float32, [self._input_size])\n",
        "        \n",
        "        prv_w = np.zeros([self._input_size, self._output_size], dtype=np.float32)\n",
        "        prv_hb = np.zeros([self._output_size], dtype=np.float32)\n",
        "        prv_vb = np.zeros([self._input_size], dtype=np.float32)\n",
        "        \n",
        "        cur_w = np.zeros([self._input_size, self._output_size], dtype=np.float32)\n",
        "        cur_hb = np.zeros([self._output_size], dtype=np.float32)\n",
        "        cur_vb = np.zeros([self._input_size], dtype=np.float32)\n",
        "\n",
        "        ##check\n",
        "        v0 = tf.placeholder(tf.float32, [None, self._input_size])\n",
        "        h0 = self.sample_prob(self.prob_h_given_v(v0, _w, _hb))\n",
        "        v1 = self.sample_prob(self.prob_v_given_h(h0, _w, _vb))\n",
        "        h1 = self.prob_h_given_v(v1, _w, _hb)\n",
        "        #To update the weights, we perform constrastive divergence.\n",
        "        positive_grad = tf.matmul(tf.transpose(v0), h0)\n",
        "        negative_grad = tf.matmul(tf.transpose(v1), h1)\n",
        "        \n",
        "        # Calculate and update each parameter\n",
        "        update_w = _w + self.learning_rate * (positive_grad - negative_grad) / tf.to_float(tf.shape(v0)[0])\n",
        "        update_vb = _vb +  self.learning_rate * tf.reduce_mean(v0 - v1, 0)\n",
        "        update_hb = _hb +  self.learning_rate * tf.reduce_mean(h0 - h1, 0)\n",
        "        # We also define the error as the MSE\n",
        "        err = tf.reduce_mean(tf.square(v0 - v1))\n",
        "        \n",
        "        error_list = []\n",
        "\n",
        "        with tf.Session() as sess:\n",
        "            sess.run(tf.global_variables_initializer())\n",
        "            \n",
        "            for epoch in range(self.epochs):\n",
        "                for start, end in zip(range(0, len(X),  self.batchsize),range(self.batchsize,len(X), self.batchsize)):\n",
        "                    batch = X[start:end]\n",
        "                    cur_w = sess.run(update_w, feed_dict={v0: batch, _w: prv_w, _hb: prv_hb, _vb: prv_vb})\n",
        "                    cur_hb = sess.run(update_hb, feed_dict={v0: batch,  _w: prv_w, _hb: prv_hb, _vb: prv_vb})\n",
        "                    cur_vb = sess.run(update_vb, feed_dict={v0: batch, _w: prv_w, _hb: prv_hb, _vb: prv_vb})\n",
        "                    prv_w = cur_w\n",
        "                    prv_hb = cur_hb\n",
        "                    prv_vb = cur_vb\n",
        "                error = sess.run(err, feed_dict={v0: X, _w: cur_w, _vb: cur_vb, _hb: cur_hb})\n",
        "                print ('Epoch: %d' % epoch,'reconstruction error: %f' % error)\n",
        "                error_list.append(error)\n",
        "            self.w = prv_w\n",
        "            self.hb = prv_hb\n",
        "            self.vb = prv_vb\n",
        "            return error_list\n",
        "    #function to generate new features from the generative model that the RBM has learned\n",
        "    def rbm_output(self, X):\n",
        "        \n",
        "        input_X = tf.constant(X)\n",
        "        _w = tf.constant(self.w)\n",
        "        _hb = tf.constant(self.hb)\n",
        "        _vb = tf.constant(self.vb)\n",
        "        out = tf.nn.sigmoid(tf.matmul(input_X, _w) + _hb)\n",
        "        hiddenGen = self.sample_prob(self.prob_h_given_v(input_X, _w, _hb))\n",
        "        visibleGen = self.sample_prob(self.prob_v_given_h(hiddenGen, _w, _vb))\n",
        "        with tf.Session() as sess:\n",
        "            sess.run(tf.global_variables_initializer())\n",
        "            return sess.run(out), sess.run(visibleGen), sess.run(hiddenGen)"
      ],
      "execution_count": null,
      "outputs": []
    },
    {
      "cell_type": "markdown",
      "metadata": {
        "id": "dqbKPY0vzPu-"
      },
      "source": [
        "## Training"
      ]
    },
    {
      "cell_type": "code",
      "metadata": {
        "id": "WZUhvytCHesW"
      },
      "source": [
        "#Droping unnecessary String columns\n",
        "df=df.drop(['commitdate','transactionid'], axis=1)\n"
      ],
      "execution_count": null,
      "outputs": []
    },
    {
      "cell_type": "markdown",
      "metadata": {
        "id": "qdYdNxOkurqf"
      },
      "source": [
        "###Splitting and Normalizing dataframe"
      ]
    },
    {
      "cell_type": "code",
      "metadata": {
        "id": "2cHDy9eqQJta"
      },
      "source": [
        "#split df\n",
        "train_X = df.iloc[:,:-1].apply(func=normalize, axis=0)\n",
        "train_Y = df.iloc[:,-1]"
      ],
      "execution_count": null,
      "outputs": []
    },
    {
      "cell_type": "code",
      "metadata": {
        "id": "8E4REdnSKBjJ",
        "colab": {
          "base_uri": "https://localhost:8080/"
        },
        "outputId": "7851e39f-1c3a-4fa0-94ca-21de7f2c8033"
      },
      "source": [
        "# df=df.drop(['transactionid'], axis=1)\n",
        "print(df.head())\n",
        "df.shape"
      ],
      "execution_count": null,
      "outputs": [
        {
          "output_type": "stream",
          "name": "stdout",
          "text": [
            "   ns  nm  nf   entropy        la  ...  npt    exp         rexp   sexp  bug\n",
            "0   1   2   2  0.954434  0.102564  ...  1.0  21140  8343.008333   1188    0\n",
            "1   1   3   3  0.693298  0.333333  ...  1.0     70    70.000000     70    0\n",
            "2   1   1   1  0.000000  0.097345  ...  1.0   2402   713.716667   2396    0\n",
            "3   1   3   4  0.894836  0.035484  ...  1.0  16307  5914.816667  15716    0\n",
            "4   1   1   1  0.000000  0.103234  ...  1.0   1778   712.283333   1774    1\n",
            "\n",
            "[5 rows x 15 columns]\n"
          ]
        },
        {
          "output_type": "execute_result",
          "data": {
            "text/plain": [
              "(4455, 15)"
            ]
          },
          "metadata": {},
          "execution_count": 99
        }
      ]
    },
    {
      "cell_type": "code",
      "metadata": {
        "id": "V0YjK0QsnQKb",
        "colab": {
          "base_uri": "https://localhost:8080/"
        },
        "outputId": "1f10fdea-ac7a-4009-d4e7-fd24d504b53c"
      },
      "source": [
        "inputX = df.iloc[:,:-1].apply(func=normalize, axis=0).values\n",
        "inputY= df.iloc[:,-1].values\n",
        "print(type(inputX))\n",
        "inputX = inputX.astype(np.float32)\n",
        "\n",
        "#List to hold RBMs\n",
        "rbm_list = []\n",
        "\n",
        "#define parameters of RBMs we will train\n",
        "# 14-20-12-12-2\n",
        "\n",
        "# def __init__(self, input_size, output_size,learning_rate, epochs, batchsize):\n",
        "rbm_list.append(RBM(14, 20, 0.002, 200, 100))\n",
        "rbm_list.append(RBM(20, 12, 0.002, 200, 100))\n",
        "rbm_list.append(RBM(12, 12, 0.002, 200, 100))"
      ],
      "execution_count": null,
      "outputs": [
        {
          "output_type": "stream",
          "name": "stdout",
          "text": [
            "<class 'numpy.ndarray'>\n"
          ]
        }
      ]
    },
    {
      "cell_type": "code",
      "metadata": {
        "id": "-RFRdpvK4zBD"
      },
      "source": [
        "import tensorflow.compat.v1 as tf\n",
        "tf.disable_v2_behavior() "
      ],
      "execution_count": null,
      "outputs": []
    },
    {
      "cell_type": "code",
      "metadata": {
        "id": "tCjl-ZFknQV0",
        "colab": {
          "base_uri": "https://localhost:8080/"
        },
        "outputId": "bde8e4c9-5557-4a8a-a734-b92bae7e2113"
      },
      "source": [
        "outputList = []\n",
        "error_list = []\n",
        "\n",
        "#For each RBM in out list\n",
        "for i in range(0, len(rbm_list)):\n",
        "    print('RBM', i+1)\n",
        "    #Train new RBM\n",
        "    rbm = rbm_list[i]\n",
        "    err = rbm.train(inputX)\n",
        "    error_list.append(err)\n",
        "\n",
        "    #Return output layer\n",
        "    #sess.run(out), sess.run(visibleGen), sess.run(hiddenGen)\n",
        "    outputX, reconstructedX, hiddenX = rbm.rbm_output(inputX)\n",
        "    outputList.append(outputX)\n",
        "    inputX= hiddenX"
      ],
      "execution_count": null,
      "outputs": [
        {
          "output_type": "stream",
          "name": "stdout",
          "text": [
            "RBM 1\n",
            "Epoch: 0 reconstruction error: 0.415106\n",
            "Epoch: 1 reconstruction error: 0.383456\n",
            "Epoch: 2 reconstruction error: 0.358941\n",
            "Epoch: 3 reconstruction error: 0.337261\n",
            "Epoch: 4 reconstruction error: 0.319050\n",
            "Epoch: 5 reconstruction error: 0.303455\n",
            "Epoch: 6 reconstruction error: 0.291339\n",
            "Epoch: 7 reconstruction error: 0.278073\n",
            "Epoch: 8 reconstruction error: 0.267838\n",
            "Epoch: 9 reconstruction error: 0.257784\n",
            "Epoch: 10 reconstruction error: 0.253371\n",
            "Epoch: 11 reconstruction error: 0.244252\n",
            "Epoch: 12 reconstruction error: 0.239509\n",
            "Epoch: 13 reconstruction error: 0.230674\n",
            "Epoch: 14 reconstruction error: 0.226174\n",
            "Epoch: 15 reconstruction error: 0.222232\n",
            "Epoch: 16 reconstruction error: 0.219232\n",
            "Epoch: 17 reconstruction error: 0.217531\n",
            "Epoch: 18 reconstruction error: 0.211164\n",
            "Epoch: 19 reconstruction error: 0.207897\n",
            "Epoch: 20 reconstruction error: 0.206271\n",
            "Epoch: 21 reconstruction error: 0.200358\n",
            "Epoch: 22 reconstruction error: 0.197965\n",
            "Epoch: 23 reconstruction error: 0.198077\n",
            "Epoch: 24 reconstruction error: 0.195504\n",
            "Epoch: 25 reconstruction error: 0.193321\n",
            "Epoch: 26 reconstruction error: 0.190850\n",
            "Epoch: 27 reconstruction error: 0.188078\n",
            "Epoch: 28 reconstruction error: 0.190958\n",
            "Epoch: 29 reconstruction error: 0.187362\n",
            "Epoch: 30 reconstruction error: 0.187515\n",
            "Epoch: 31 reconstruction error: 0.182623\n",
            "Epoch: 32 reconstruction error: 0.181673\n",
            "Epoch: 33 reconstruction error: 0.183461\n",
            "Epoch: 34 reconstruction error: 0.180166\n",
            "Epoch: 35 reconstruction error: 0.179872\n",
            "Epoch: 36 reconstruction error: 0.178479\n",
            "Epoch: 37 reconstruction error: 0.179755\n",
            "Epoch: 38 reconstruction error: 0.178160\n",
            "Epoch: 39 reconstruction error: 0.175334\n",
            "Epoch: 40 reconstruction error: 0.172619\n",
            "Epoch: 41 reconstruction error: 0.176192\n",
            "Epoch: 42 reconstruction error: 0.176091\n",
            "Epoch: 43 reconstruction error: 0.173947\n",
            "Epoch: 44 reconstruction error: 0.172705\n",
            "Epoch: 45 reconstruction error: 0.169602\n",
            "Epoch: 46 reconstruction error: 0.172495\n",
            "Epoch: 47 reconstruction error: 0.170649\n",
            "Epoch: 48 reconstruction error: 0.173813\n",
            "Epoch: 49 reconstruction error: 0.170421\n",
            "Epoch: 50 reconstruction error: 0.171687\n",
            "Epoch: 51 reconstruction error: 0.169474\n",
            "Epoch: 52 reconstruction error: 0.168565\n",
            "Epoch: 53 reconstruction error: 0.168169\n",
            "Epoch: 54 reconstruction error: 0.169620\n",
            "Epoch: 55 reconstruction error: 0.166153\n",
            "Epoch: 56 reconstruction error: 0.167417\n",
            "Epoch: 57 reconstruction error: 0.167939\n",
            "Epoch: 58 reconstruction error: 0.166209\n",
            "Epoch: 59 reconstruction error: 0.167818\n",
            "Epoch: 60 reconstruction error: 0.166416\n",
            "Epoch: 61 reconstruction error: 0.167281\n",
            "Epoch: 62 reconstruction error: 0.165770\n",
            "Epoch: 63 reconstruction error: 0.166909\n",
            "Epoch: 64 reconstruction error: 0.165564\n",
            "Epoch: 65 reconstruction error: 0.163670\n",
            "Epoch: 66 reconstruction error: 0.166540\n",
            "Epoch: 67 reconstruction error: 0.163759\n",
            "Epoch: 68 reconstruction error: 0.165884\n",
            "Epoch: 69 reconstruction error: 0.164017\n",
            "Epoch: 70 reconstruction error: 0.163191\n",
            "Epoch: 71 reconstruction error: 0.163546\n",
            "Epoch: 72 reconstruction error: 0.164442\n",
            "Epoch: 73 reconstruction error: 0.163585\n",
            "Epoch: 74 reconstruction error: 0.163387\n",
            "Epoch: 75 reconstruction error: 0.163354\n",
            "Epoch: 76 reconstruction error: 0.162118\n",
            "Epoch: 77 reconstruction error: 0.163568\n",
            "Epoch: 78 reconstruction error: 0.163040\n",
            "Epoch: 79 reconstruction error: 0.161993\n",
            "Epoch: 80 reconstruction error: 0.164508\n",
            "Epoch: 81 reconstruction error: 0.163498\n",
            "Epoch: 82 reconstruction error: 0.160516\n",
            "Epoch: 83 reconstruction error: 0.159882\n",
            "Epoch: 84 reconstruction error: 0.159536\n",
            "Epoch: 85 reconstruction error: 0.160225\n",
            "Epoch: 86 reconstruction error: 0.161952\n",
            "Epoch: 87 reconstruction error: 0.161580\n",
            "Epoch: 88 reconstruction error: 0.160510\n",
            "Epoch: 89 reconstruction error: 0.161093\n",
            "Epoch: 90 reconstruction error: 0.161060\n",
            "Epoch: 91 reconstruction error: 0.158184\n",
            "Epoch: 92 reconstruction error: 0.162272\n",
            "Epoch: 93 reconstruction error: 0.161347\n",
            "Epoch: 94 reconstruction error: 0.161073\n",
            "Epoch: 95 reconstruction error: 0.159762\n",
            "Epoch: 96 reconstruction error: 0.159411\n",
            "Epoch: 97 reconstruction error: 0.160348\n",
            "Epoch: 98 reconstruction error: 0.160559\n",
            "Epoch: 99 reconstruction error: 0.159696\n",
            "Epoch: 100 reconstruction error: 0.160043\n",
            "Epoch: 101 reconstruction error: 0.160739\n",
            "Epoch: 102 reconstruction error: 0.159785\n",
            "Epoch: 103 reconstruction error: 0.159745\n",
            "Epoch: 104 reconstruction error: 0.159358\n",
            "Epoch: 105 reconstruction error: 0.160688\n",
            "Epoch: 106 reconstruction error: 0.158659\n",
            "Epoch: 107 reconstruction error: 0.157447\n",
            "Epoch: 108 reconstruction error: 0.159399\n",
            "Epoch: 109 reconstruction error: 0.158811\n",
            "Epoch: 110 reconstruction error: 0.160293\n",
            "Epoch: 111 reconstruction error: 0.159765\n",
            "Epoch: 112 reconstruction error: 0.158461\n",
            "Epoch: 113 reconstruction error: 0.156644\n",
            "Epoch: 114 reconstruction error: 0.159713\n",
            "Epoch: 115 reconstruction error: 0.159441\n",
            "Epoch: 116 reconstruction error: 0.157852\n",
            "Epoch: 117 reconstruction error: 0.159551\n",
            "Epoch: 118 reconstruction error: 0.160324\n",
            "Epoch: 119 reconstruction error: 0.158764\n",
            "Epoch: 120 reconstruction error: 0.156492\n",
            "Epoch: 121 reconstruction error: 0.158170\n",
            "Epoch: 122 reconstruction error: 0.156546\n",
            "Epoch: 123 reconstruction error: 0.158824\n",
            "Epoch: 124 reconstruction error: 0.159189\n",
            "Epoch: 125 reconstruction error: 0.160215\n",
            "Epoch: 126 reconstruction error: 0.157892\n",
            "Epoch: 127 reconstruction error: 0.159485\n",
            "Epoch: 128 reconstruction error: 0.157604\n",
            "Epoch: 129 reconstruction error: 0.158467\n",
            "Epoch: 130 reconstruction error: 0.159487\n",
            "Epoch: 131 reconstruction error: 0.157931\n",
            "Epoch: 132 reconstruction error: 0.156069\n",
            "Epoch: 133 reconstruction error: 0.159163\n",
            "Epoch: 134 reconstruction error: 0.158065\n",
            "Epoch: 135 reconstruction error: 0.158985\n",
            "Epoch: 136 reconstruction error: 0.155895\n",
            "Epoch: 137 reconstruction error: 0.157161\n",
            "Epoch: 138 reconstruction error: 0.155640\n",
            "Epoch: 139 reconstruction error: 0.156996\n",
            "Epoch: 140 reconstruction error: 0.156452\n",
            "Epoch: 141 reconstruction error: 0.158234\n",
            "Epoch: 142 reconstruction error: 0.155301\n",
            "Epoch: 143 reconstruction error: 0.156755\n",
            "Epoch: 144 reconstruction error: 0.156317\n",
            "Epoch: 145 reconstruction error: 0.155305\n",
            "Epoch: 146 reconstruction error: 0.158403\n",
            "Epoch: 147 reconstruction error: 0.156880\n",
            "Epoch: 148 reconstruction error: 0.157777\n",
            "Epoch: 149 reconstruction error: 0.157398\n",
            "Epoch: 150 reconstruction error: 0.156124\n",
            "Epoch: 151 reconstruction error: 0.156888\n",
            "Epoch: 152 reconstruction error: 0.156355\n",
            "Epoch: 153 reconstruction error: 0.156555\n",
            "Epoch: 154 reconstruction error: 0.158725\n",
            "Epoch: 155 reconstruction error: 0.155117\n",
            "Epoch: 156 reconstruction error: 0.156668\n",
            "Epoch: 157 reconstruction error: 0.155058\n",
            "Epoch: 158 reconstruction error: 0.155617\n",
            "Epoch: 159 reconstruction error: 0.154341\n",
            "Epoch: 160 reconstruction error: 0.155238\n",
            "Epoch: 161 reconstruction error: 0.156005\n",
            "Epoch: 162 reconstruction error: 0.156730\n",
            "Epoch: 163 reconstruction error: 0.155900\n",
            "Epoch: 164 reconstruction error: 0.154634\n",
            "Epoch: 165 reconstruction error: 0.156700\n",
            "Epoch: 166 reconstruction error: 0.156186\n",
            "Epoch: 167 reconstruction error: 0.154960\n",
            "Epoch: 168 reconstruction error: 0.155348\n",
            "Epoch: 169 reconstruction error: 0.156970\n",
            "Epoch: 170 reconstruction error: 0.155377\n",
            "Epoch: 171 reconstruction error: 0.154943\n",
            "Epoch: 172 reconstruction error: 0.155844\n",
            "Epoch: 173 reconstruction error: 0.155184\n",
            "Epoch: 174 reconstruction error: 0.155653\n",
            "Epoch: 175 reconstruction error: 0.155525\n",
            "Epoch: 176 reconstruction error: 0.154457\n",
            "Epoch: 177 reconstruction error: 0.155196\n",
            "Epoch: 178 reconstruction error: 0.155792\n",
            "Epoch: 179 reconstruction error: 0.156163\n",
            "Epoch: 180 reconstruction error: 0.154161\n",
            "Epoch: 181 reconstruction error: 0.157515\n",
            "Epoch: 182 reconstruction error: 0.155406\n",
            "Epoch: 183 reconstruction error: 0.159283\n",
            "Epoch: 184 reconstruction error: 0.156159\n",
            "Epoch: 185 reconstruction error: 0.153623\n",
            "Epoch: 186 reconstruction error: 0.156618\n",
            "Epoch: 187 reconstruction error: 0.155160\n",
            "Epoch: 188 reconstruction error: 0.154924\n",
            "Epoch: 189 reconstruction error: 0.154674\n",
            "Epoch: 190 reconstruction error: 0.155597\n",
            "Epoch: 191 reconstruction error: 0.153942\n",
            "Epoch: 192 reconstruction error: 0.154888\n",
            "Epoch: 193 reconstruction error: 0.155641\n",
            "Epoch: 194 reconstruction error: 0.154924\n",
            "Epoch: 195 reconstruction error: 0.155839\n",
            "Epoch: 196 reconstruction error: 0.157172\n",
            "Epoch: 197 reconstruction error: 0.153803\n",
            "Epoch: 198 reconstruction error: 0.156524\n",
            "Epoch: 199 reconstruction error: 0.154514\n",
            "RBM 2\n",
            "Epoch: 0 reconstruction error: 0.501942\n",
            "Epoch: 1 reconstruction error: 0.499147\n",
            "Epoch: 2 reconstruction error: 0.497306\n",
            "Epoch: 3 reconstruction error: 0.498114\n",
            "Epoch: 4 reconstruction error: 0.496599\n",
            "Epoch: 5 reconstruction error: 0.495701\n",
            "Epoch: 6 reconstruction error: 0.494871\n",
            "Epoch: 7 reconstruction error: 0.499360\n",
            "Epoch: 8 reconstruction error: 0.497957\n",
            "Epoch: 9 reconstruction error: 0.497059\n",
            "Epoch: 10 reconstruction error: 0.495039\n",
            "Epoch: 11 reconstruction error: 0.496263\n",
            "Epoch: 12 reconstruction error: 0.498597\n",
            "Epoch: 13 reconstruction error: 0.493704\n",
            "Epoch: 14 reconstruction error: 0.494927\n",
            "Epoch: 15 reconstruction error: 0.495847\n",
            "Epoch: 16 reconstruction error: 0.495331\n",
            "Epoch: 17 reconstruction error: 0.497183\n",
            "Epoch: 18 reconstruction error: 0.494691\n",
            "Epoch: 19 reconstruction error: 0.491526\n",
            "Epoch: 20 reconstruction error: 0.495140\n",
            "Epoch: 21 reconstruction error: 0.495657\n",
            "Epoch: 22 reconstruction error: 0.494938\n",
            "Epoch: 23 reconstruction error: 0.494141\n",
            "Epoch: 24 reconstruction error: 0.494242\n",
            "Epoch: 25 reconstruction error: 0.492009\n",
            "Epoch: 26 reconstruction error: 0.492132\n",
            "Epoch: 27 reconstruction error: 0.494602\n",
            "Epoch: 28 reconstruction error: 0.497710\n",
            "Epoch: 29 reconstruction error: 0.495522\n",
            "Epoch: 30 reconstruction error: 0.493255\n",
            "Epoch: 31 reconstruction error: 0.494130\n",
            "Epoch: 32 reconstruction error: 0.494848\n",
            "Epoch: 33 reconstruction error: 0.492581\n",
            "Epoch: 34 reconstruction error: 0.494545\n",
            "Epoch: 35 reconstruction error: 0.492581\n",
            "Epoch: 36 reconstruction error: 0.494355\n",
            "Epoch: 37 reconstruction error: 0.489585\n",
            "Epoch: 38 reconstruction error: 0.493670\n",
            "Epoch: 39 reconstruction error: 0.496869\n",
            "Epoch: 40 reconstruction error: 0.493535\n",
            "Epoch: 41 reconstruction error: 0.494007\n",
            "Epoch: 42 reconstruction error: 0.493984\n",
            "Epoch: 43 reconstruction error: 0.494635\n",
            "Epoch: 44 reconstruction error: 0.491201\n",
            "Epoch: 45 reconstruction error: 0.494680\n",
            "Epoch: 46 reconstruction error: 0.492290\n",
            "Epoch: 47 reconstruction error: 0.495600\n",
            "Epoch: 48 reconstruction error: 0.493221\n",
            "Epoch: 49 reconstruction error: 0.493457\n",
            "Epoch: 50 reconstruction error: 0.490617\n",
            "Epoch: 51 reconstruction error: 0.494265\n",
            "Epoch: 52 reconstruction error: 0.493569\n",
            "Epoch: 53 reconstruction error: 0.496049\n",
            "Epoch: 54 reconstruction error: 0.493749\n",
            "Epoch: 55 reconstruction error: 0.494949\n",
            "Epoch: 56 reconstruction error: 0.493636\n",
            "Epoch: 57 reconstruction error: 0.489742\n",
            "Epoch: 58 reconstruction error: 0.495118\n",
            "Epoch: 59 reconstruction error: 0.494242\n",
            "Epoch: 60 reconstruction error: 0.495511\n",
            "Epoch: 61 reconstruction error: 0.492088\n",
            "Epoch: 62 reconstruction error: 0.492828\n",
            "Epoch: 63 reconstruction error: 0.494961\n",
            "Epoch: 64 reconstruction error: 0.496588\n",
            "Epoch: 65 reconstruction error: 0.492031\n",
            "Epoch: 66 reconstruction error: 0.494815\n",
            "Epoch: 67 reconstruction error: 0.492806\n",
            "Epoch: 68 reconstruction error: 0.494040\n",
            "Epoch: 69 reconstruction error: 0.492783\n",
            "Epoch: 70 reconstruction error: 0.494411\n",
            "Epoch: 71 reconstruction error: 0.493199\n",
            "Epoch: 72 reconstruction error: 0.495410\n",
            "Epoch: 73 reconstruction error: 0.494557\n",
            "Epoch: 74 reconstruction error: 0.495634\n",
            "Epoch: 75 reconstruction error: 0.496162\n",
            "Epoch: 76 reconstruction error: 0.495870\n",
            "Epoch: 77 reconstruction error: 0.492177\n",
            "Epoch: 78 reconstruction error: 0.492155\n",
            "Epoch: 79 reconstruction error: 0.494860\n",
            "Epoch: 80 reconstruction error: 0.496061\n",
            "Epoch: 81 reconstruction error: 0.490685\n",
            "Epoch: 82 reconstruction error: 0.494254\n",
            "Epoch: 83 reconstruction error: 0.492671\n",
            "Epoch: 84 reconstruction error: 0.497419\n",
            "Epoch: 85 reconstruction error: 0.497531\n",
            "Epoch: 86 reconstruction error: 0.494040\n",
            "Epoch: 87 reconstruction error: 0.491538\n",
            "Epoch: 88 reconstruction error: 0.494792\n",
            "Epoch: 89 reconstruction error: 0.493154\n",
            "Epoch: 90 reconstruction error: 0.490505\n",
            "Epoch: 91 reconstruction error: 0.493816\n",
            "Epoch: 92 reconstruction error: 0.494826\n",
            "Epoch: 93 reconstruction error: 0.493412\n",
            "Epoch: 94 reconstruction error: 0.492233\n",
            "Epoch: 95 reconstruction error: 0.494388\n",
            "Epoch: 96 reconstruction error: 0.493659\n",
            "Epoch: 97 reconstruction error: 0.494949\n",
            "Epoch: 98 reconstruction error: 0.495769\n",
            "Epoch: 99 reconstruction error: 0.493165\n",
            "Epoch: 100 reconstruction error: 0.494893\n",
            "Epoch: 101 reconstruction error: 0.495152\n",
            "Epoch: 102 reconstruction error: 0.494680\n",
            "Epoch: 103 reconstruction error: 0.494691\n",
            "Epoch: 104 reconstruction error: 0.492065\n",
            "Epoch: 105 reconstruction error: 0.494265\n",
            "Epoch: 106 reconstruction error: 0.494826\n",
            "Epoch: 107 reconstruction error: 0.494815\n",
            "Epoch: 108 reconstruction error: 0.491324\n",
            "Epoch: 109 reconstruction error: 0.493984\n",
            "Epoch: 110 reconstruction error: 0.494007\n",
            "Epoch: 111 reconstruction error: 0.492368\n",
            "Epoch: 112 reconstruction error: 0.495915\n",
            "Epoch: 113 reconstruction error: 0.492840\n",
            "Epoch: 114 reconstruction error: 0.494052\n",
            "Epoch: 115 reconstruction error: 0.493221\n",
            "Epoch: 116 reconstruction error: 0.493760\n",
            "Epoch: 117 reconstruction error: 0.494321\n",
            "Epoch: 118 reconstruction error: 0.493861\n",
            "Epoch: 119 reconstruction error: 0.495847\n",
            "Epoch: 120 reconstruction error: 0.494074\n",
            "Epoch: 121 reconstruction error: 0.493704\n",
            "Epoch: 122 reconstruction error: 0.494276\n",
            "Epoch: 123 reconstruction error: 0.492873\n",
            "Epoch: 124 reconstruction error: 0.495017\n",
            "Epoch: 125 reconstruction error: 0.496027\n",
            "Epoch: 126 reconstruction error: 0.495163\n",
            "Epoch: 127 reconstruction error: 0.495095\n",
            "Epoch: 128 reconstruction error: 0.493760\n",
            "Epoch: 129 reconstruction error: 0.491257\n",
            "Epoch: 130 reconstruction error: 0.492997\n",
            "Epoch: 131 reconstruction error: 0.495892\n",
            "Epoch: 132 reconstruction error: 0.494007\n",
            "Epoch: 133 reconstruction error: 0.494703\n",
            "Epoch: 134 reconstruction error: 0.491684\n",
            "Epoch: 135 reconstruction error: 0.494422\n",
            "Epoch: 136 reconstruction error: 0.494590\n",
            "Epoch: 137 reconstruction error: 0.495847\n",
            "Epoch: 138 reconstruction error: 0.493019\n",
            "Epoch: 139 reconstruction error: 0.496072\n",
            "Epoch: 140 reconstruction error: 0.493030\n",
            "Epoch: 141 reconstruction error: 0.494355\n",
            "Epoch: 142 reconstruction error: 0.492177\n",
            "Epoch: 143 reconstruction error: 0.494411\n",
            "Epoch: 144 reconstruction error: 0.498215\n",
            "Epoch: 145 reconstruction error: 0.491504\n",
            "Epoch: 146 reconstruction error: 0.492772\n",
            "Epoch: 147 reconstruction error: 0.495634\n",
            "Epoch: 148 reconstruction error: 0.491493\n",
            "Epoch: 149 reconstruction error: 0.495331\n",
            "Epoch: 150 reconstruction error: 0.492088\n",
            "Epoch: 151 reconstruction error: 0.490943\n",
            "Epoch: 152 reconstruction error: 0.492716\n",
            "Epoch: 153 reconstruction error: 0.492884\n",
            "Epoch: 154 reconstruction error: 0.493412\n",
            "Epoch: 155 reconstruction error: 0.495690\n",
            "Epoch: 156 reconstruction error: 0.492952\n",
            "Epoch: 157 reconstruction error: 0.492559\n",
            "Epoch: 158 reconstruction error: 0.493300\n",
            "Epoch: 159 reconstruction error: 0.494321\n",
            "Epoch: 160 reconstruction error: 0.495421\n",
            "Epoch: 161 reconstruction error: 0.495903\n",
            "Epoch: 162 reconstruction error: 0.493479\n",
            "Epoch: 163 reconstruction error: 0.493098\n",
            "Epoch: 164 reconstruction error: 0.496420\n",
            "Epoch: 165 reconstruction error: 0.492548\n",
            "Epoch: 166 reconstruction error: 0.494220\n",
            "Epoch: 167 reconstruction error: 0.495017\n",
            "Epoch: 168 reconstruction error: 0.495208\n",
            "Epoch: 169 reconstruction error: 0.492727\n",
            "Epoch: 170 reconstruction error: 0.495657\n",
            "Epoch: 171 reconstruction error: 0.493064\n",
            "Epoch: 172 reconstruction error: 0.493322\n",
            "Epoch: 173 reconstruction error: 0.494119\n",
            "Epoch: 174 reconstruction error: 0.498070\n",
            "Epoch: 175 reconstruction error: 0.493625\n",
            "Epoch: 176 reconstruction error: 0.491605\n",
            "Epoch: 177 reconstruction error: 0.493749\n",
            "Epoch: 178 reconstruction error: 0.494781\n",
            "Epoch: 179 reconstruction error: 0.497598\n",
            "Epoch: 180 reconstruction error: 0.494792\n",
            "Epoch: 181 reconstruction error: 0.492458\n",
            "Epoch: 182 reconstruction error: 0.494893\n",
            "Epoch: 183 reconstruction error: 0.492402\n",
            "Epoch: 184 reconstruction error: 0.493367\n",
            "Epoch: 185 reconstruction error: 0.495589\n",
            "Epoch: 186 reconstruction error: 0.493816\n",
            "Epoch: 187 reconstruction error: 0.493580\n",
            "Epoch: 188 reconstruction error: 0.494905\n",
            "Epoch: 189 reconstruction error: 0.496397\n",
            "Epoch: 190 reconstruction error: 0.493939\n",
            "Epoch: 191 reconstruction error: 0.496285\n",
            "Epoch: 192 reconstruction error: 0.493490\n",
            "Epoch: 193 reconstruction error: 0.493333\n",
            "Epoch: 194 reconstruction error: 0.492110\n",
            "Epoch: 195 reconstruction error: 0.495219\n",
            "Epoch: 196 reconstruction error: 0.495600\n",
            "Epoch: 197 reconstruction error: 0.493490\n",
            "Epoch: 198 reconstruction error: 0.489169\n",
            "Epoch: 199 reconstruction error: 0.493782\n",
            "RBM 3\n",
            "Epoch: 0 reconstruction error: 0.498971\n",
            "Epoch: 1 reconstruction error: 0.496296\n",
            "Epoch: 2 reconstruction error: 0.495024\n",
            "Epoch: 3 reconstruction error: 0.497250\n",
            "Epoch: 4 reconstruction error: 0.493977\n",
            "Epoch: 5 reconstruction error: 0.495941\n",
            "Epoch: 6 reconstruction error: 0.493621\n",
            "Epoch: 7 reconstruction error: 0.491807\n",
            "Epoch: 8 reconstruction error: 0.492780\n",
            "Epoch: 9 reconstruction error: 0.490647\n",
            "Epoch: 10 reconstruction error: 0.496128\n",
            "Epoch: 11 reconstruction error: 0.492499\n",
            "Epoch: 12 reconstruction error: 0.492480\n",
            "Epoch: 13 reconstruction error: 0.492761\n",
            "Epoch: 14 reconstruction error: 0.491452\n",
            "Epoch: 15 reconstruction error: 0.491489\n",
            "Epoch: 16 reconstruction error: 0.492985\n",
            "Epoch: 17 reconstruction error: 0.489319\n",
            "Epoch: 18 reconstruction error: 0.493210\n",
            "Epoch: 19 reconstruction error: 0.495342\n",
            "Epoch: 20 reconstruction error: 0.492069\n",
            "Epoch: 21 reconstruction error: 0.489862\n",
            "Epoch: 22 reconstruction error: 0.491957\n",
            "Epoch: 23 reconstruction error: 0.489469\n",
            "Epoch: 24 reconstruction error: 0.490011\n",
            "Epoch: 25 reconstruction error: 0.489113\n",
            "Epoch: 26 reconstruction error: 0.492013\n",
            "Epoch: 27 reconstruction error: 0.487673\n",
            "Epoch: 28 reconstruction error: 0.493210\n",
            "Epoch: 29 reconstruction error: 0.494052\n",
            "Epoch: 30 reconstruction error: 0.489095\n",
            "Epoch: 31 reconstruction error: 0.494725\n",
            "Epoch: 32 reconstruction error: 0.492293\n",
            "Epoch: 33 reconstruction error: 0.489188\n",
            "Epoch: 34 reconstruction error: 0.489169\n",
            "Epoch: 35 reconstruction error: 0.486513\n",
            "Epoch: 36 reconstruction error: 0.488365\n",
            "Epoch: 37 reconstruction error: 0.489113\n",
            "Epoch: 38 reconstruction error: 0.486607\n",
            "Epoch: 39 reconstruction error: 0.489637\n",
            "Epoch: 40 reconstruction error: 0.491339\n",
            "Epoch: 41 reconstruction error: 0.486027\n",
            "Epoch: 42 reconstruction error: 0.489057\n",
            "Epoch: 43 reconstruction error: 0.490928\n",
            "Epoch: 44 reconstruction error: 0.488833\n",
            "Epoch: 45 reconstruction error: 0.490498\n",
            "Epoch: 46 reconstruction error: 0.489899\n",
            "Epoch: 47 reconstruction error: 0.485896\n",
            "Epoch: 48 reconstruction error: 0.489226\n",
            "Epoch: 49 reconstruction error: 0.488758\n",
            "Epoch: 50 reconstruction error: 0.493172\n",
            "Epoch: 51 reconstruction error: 0.489506\n",
            "Epoch: 52 reconstruction error: 0.487336\n",
            "Epoch: 53 reconstruction error: 0.490890\n",
            "Epoch: 54 reconstruction error: 0.494126\n",
            "Epoch: 55 reconstruction error: 0.489319\n",
            "Epoch: 56 reconstruction error: 0.490292\n",
            "Epoch: 57 reconstruction error: 0.487804\n",
            "Epoch: 58 reconstruction error: 0.491395\n",
            "Epoch: 59 reconstruction error: 0.488159\n",
            "Epoch: 60 reconstruction error: 0.489731\n",
            "Epoch: 61 reconstruction error: 0.490385\n",
            "Epoch: 62 reconstruction error: 0.492724\n",
            "Epoch: 63 reconstruction error: 0.488777\n",
            "Epoch: 64 reconstruction error: 0.489113\n",
            "Epoch: 65 reconstruction error: 0.496053\n",
            "Epoch: 66 reconstruction error: 0.492125\n",
            "Epoch: 67 reconstruction error: 0.491919\n",
            "Epoch: 68 reconstruction error: 0.490404\n",
            "Epoch: 69 reconstruction error: 0.488777\n",
            "Epoch: 70 reconstruction error: 0.488982\n",
            "Epoch: 71 reconstruction error: 0.492331\n",
            "Epoch: 72 reconstruction error: 0.489993\n",
            "Epoch: 73 reconstruction error: 0.487654\n",
            "Epoch: 74 reconstruction error: 0.489039\n",
            "Epoch: 75 reconstruction error: 0.487187\n",
            "Epoch: 76 reconstruction error: 0.489357\n",
            "Epoch: 77 reconstruction error: 0.489169\n",
            "Epoch: 78 reconstruction error: 0.492144\n",
            "Epoch: 79 reconstruction error: 0.487243\n",
            "Epoch: 80 reconstruction error: 0.491395\n",
            "Epoch: 81 reconstruction error: 0.492593\n",
            "Epoch: 82 reconstruction error: 0.490105\n",
            "Epoch: 83 reconstruction error: 0.486944\n",
            "Epoch: 84 reconstruction error: 0.490554\n",
            "Epoch: 85 reconstruction error: 0.486962\n",
            "Epoch: 86 reconstruction error: 0.490011\n",
            "Epoch: 87 reconstruction error: 0.487280\n",
            "Epoch: 88 reconstruction error: 0.488122\n",
            "Epoch: 89 reconstruction error: 0.490123\n",
            "Epoch: 90 reconstruction error: 0.491283\n",
            "Epoch: 91 reconstruction error: 0.488234\n",
            "Epoch: 92 reconstruction error: 0.487954\n",
            "Epoch: 93 reconstruction error: 0.491545\n",
            "Epoch: 94 reconstruction error: 0.489226\n",
            "Epoch: 95 reconstruction error: 0.487112\n",
            "Epoch: 96 reconstruction error: 0.489263\n",
            "Epoch: 97 reconstruction error: 0.484905\n",
            "Epoch: 98 reconstruction error: 0.486962\n",
            "Epoch: 99 reconstruction error: 0.492031\n",
            "Epoch: 100 reconstruction error: 0.486083\n",
            "Epoch: 101 reconstruction error: 0.489113\n",
            "Epoch: 102 reconstruction error: 0.487916\n",
            "Epoch: 103 reconstruction error: 0.488908\n",
            "Epoch: 104 reconstruction error: 0.489600\n",
            "Epoch: 105 reconstruction error: 0.489076\n",
            "Epoch: 106 reconstruction error: 0.489525\n",
            "Epoch: 107 reconstruction error: 0.485653\n",
            "Epoch: 108 reconstruction error: 0.489525\n",
            "Epoch: 109 reconstruction error: 0.493771\n",
            "Epoch: 110 reconstruction error: 0.491844\n",
            "Epoch: 111 reconstruction error: 0.490610\n",
            "Epoch: 112 reconstruction error: 0.488702\n",
            "Epoch: 113 reconstruction error: 0.491564\n",
            "Epoch: 114 reconstruction error: 0.489394\n",
            "Epoch: 115 reconstruction error: 0.487131\n",
            "Epoch: 116 reconstruction error: 0.488346\n",
            "Epoch: 117 reconstruction error: 0.490142\n",
            "Epoch: 118 reconstruction error: 0.488122\n",
            "Epoch: 119 reconstruction error: 0.486850\n",
            "Epoch: 120 reconstruction error: 0.488758\n",
            "Epoch: 121 reconstruction error: 0.489843\n",
            "Epoch: 122 reconstruction error: 0.490441\n",
            "Epoch: 123 reconstruction error: 0.490198\n",
            "Epoch: 124 reconstruction error: 0.483820\n",
            "Epoch: 125 reconstruction error: 0.487299\n",
            "Epoch: 126 reconstruction error: 0.490161\n",
            "Epoch: 127 reconstruction error: 0.489375\n",
            "Epoch: 128 reconstruction error: 0.488234\n",
            "Epoch: 129 reconstruction error: 0.488608\n",
            "Epoch: 130 reconstruction error: 0.489282\n",
            "Epoch: 131 reconstruction error: 0.489413\n",
            "Epoch: 132 reconstruction error: 0.489544\n",
            "Epoch: 133 reconstruction error: 0.494033\n",
            "Epoch: 134 reconstruction error: 0.488608\n",
            "Epoch: 135 reconstruction error: 0.488122\n",
            "Epoch: 136 reconstruction error: 0.490161\n",
            "Epoch: 137 reconstruction error: 0.487916\n",
            "Epoch: 138 reconstruction error: 0.489843\n",
            "Epoch: 139 reconstruction error: 0.491208\n",
            "Epoch: 140 reconstruction error: 0.484530\n",
            "Epoch: 141 reconstruction error: 0.487000\n",
            "Epoch: 142 reconstruction error: 0.489637\n",
            "Epoch: 143 reconstruction error: 0.488290\n",
            "Epoch: 144 reconstruction error: 0.484905\n",
            "Epoch: 145 reconstruction error: 0.491040\n",
            "Epoch: 146 reconstruction error: 0.486588\n",
            "Epoch: 147 reconstruction error: 0.492630\n",
            "Epoch: 148 reconstruction error: 0.495978\n",
            "Epoch: 149 reconstruction error: 0.484718\n",
            "Epoch: 150 reconstruction error: 0.490086\n",
            "Epoch: 151 reconstruction error: 0.488309\n",
            "Epoch: 152 reconstruction error: 0.488964\n",
            "Epoch: 153 reconstruction error: 0.491770\n",
            "Epoch: 154 reconstruction error: 0.486064\n",
            "Epoch: 155 reconstruction error: 0.489581\n",
            "Epoch: 156 reconstruction error: 0.491695\n",
            "Epoch: 157 reconstruction error: 0.487561\n",
            "Epoch: 158 reconstruction error: 0.486682\n",
            "Epoch: 159 reconstruction error: 0.490947\n",
            "Epoch: 160 reconstruction error: 0.490647\n",
            "Epoch: 161 reconstruction error: 0.489618\n",
            "Epoch: 162 reconstruction error: 0.490647\n",
            "Epoch: 163 reconstruction error: 0.489357\n",
            "Epoch: 164 reconstruction error: 0.492985\n",
            "Epoch: 165 reconstruction error: 0.490142\n",
            "Epoch: 166 reconstruction error: 0.489525\n",
            "Epoch: 167 reconstruction error: 0.487841\n",
            "Epoch: 168 reconstruction error: 0.486569\n",
            "Epoch: 169 reconstruction error: 0.489076\n",
            "Epoch: 170 reconstruction error: 0.487972\n",
            "Epoch: 171 reconstruction error: 0.490516\n",
            "Epoch: 172 reconstruction error: 0.490498\n",
            "Epoch: 173 reconstruction error: 0.488159\n",
            "Epoch: 174 reconstruction error: 0.490741\n",
            "Epoch: 175 reconstruction error: 0.493191\n",
            "Epoch: 176 reconstruction error: 0.487841\n",
            "Epoch: 177 reconstruction error: 0.487243\n",
            "Epoch: 178 reconstruction error: 0.485073\n",
            "Epoch: 179 reconstruction error: 0.489618\n",
            "Epoch: 180 reconstruction error: 0.492218\n",
            "Epoch: 181 reconstruction error: 0.485391\n",
            "Epoch: 182 reconstruction error: 0.488945\n",
            "Epoch: 183 reconstruction error: 0.489300\n",
            "Epoch: 184 reconstruction error: 0.487112\n",
            "Epoch: 185 reconstruction error: 0.488197\n",
            "Epoch: 186 reconstruction error: 0.491452\n",
            "Epoch: 187 reconstruction error: 0.489712\n",
            "Epoch: 188 reconstruction error: 0.489731\n",
            "Epoch: 189 reconstruction error: 0.487636\n",
            "Epoch: 190 reconstruction error: 0.493023\n",
            "Epoch: 191 reconstruction error: 0.486607\n",
            "Epoch: 192 reconstruction error: 0.489450\n",
            "Epoch: 193 reconstruction error: 0.491246\n",
            "Epoch: 194 reconstruction error: 0.491489\n",
            "Epoch: 195 reconstruction error: 0.490759\n",
            "Epoch: 196 reconstruction error: 0.491657\n",
            "Epoch: 197 reconstruction error: 0.488421\n",
            "Epoch: 198 reconstruction error: 0.485990\n",
            "Epoch: 199 reconstruction error: 0.491171\n"
          ]
        }
      ]
    },
    {
      "cell_type": "code",
      "metadata": {
        "id": "8_JW0RV4nQYG",
        "colab": {
          "base_uri": "https://localhost:8080/",
          "height": 854
        },
        "outputId": "0e5d229a-c3a7-4a0f-c66d-9910d6cc199c"
      },
      "source": [
        "i = 1\n",
        "for err in error_list:\n",
        "    print(\"RBM\",i)\n",
        "    pd.Series(err).plot(logy=False)\n",
        "    plt.xlabel(\"Epoch\")\n",
        "    plt.ylabel(\"Reconstruction Error\")\n",
        "    plt.show()\n",
        "    i += 1"
      ],
      "execution_count": null,
      "outputs": [
        {
          "output_type": "stream",
          "name": "stdout",
          "text": [
            "RBM 1\n"
          ]
        },
        {
          "output_type": "display_data",
          "data": {
            "image/png": "[encoded data removed]",
            "text/plain": [
              "<Figure size 432x288 with 1 Axes>"
            ]
          },
          "metadata": {
            "needs_background": "light"
          }
        },
        {
          "output_type": "stream",
          "name": "stdout",
          "text": [
            "RBM 2\n"
          ]
        },
        {
          "output_type": "display_data",
          "data": {
            "image/png": "[encoded data removed]",
            "text/plain": [
              "<Figure size 432x288 with 1 Axes>"
            ]
          },
          "metadata": {
            "needs_background": "light"
          }
        },
        {
          "output_type": "stream",
          "name": "stdout",
          "text": [
            "RBM 3\n"
          ]
        },
        {
          "output_type": "display_data",
          "data": {
            "image/png": "[encoded data removed]",
            "text/plain": [
              "<Figure size 432x288 with 1 Axes>"
            ]
          },
          "metadata": {
            "needs_background": "light"
          }
        }
      ]
    },
    {
      "cell_type": "code",
      "metadata": {
        "id": "XpVaXs_YP263"
      },
      "source": [
        "inputX = np.array(train_X)\n",
        "inputX = inputX.astype(np.float32)\n",
        "rbmOne = rbm_list[0]"
      ],
      "execution_count": null,
      "outputs": []
    },
    {
      "cell_type": "code",
      "metadata": {
        "id": "rW0OQisMnQOG",
        "colab": {
          "base_uri": "https://localhost:8080/"
        },
        "outputId": "138c729b-283d-42cd-e15b-026b6b67c59c"
      },
      "source": [
        "\n",
        "print('RBM 1')\n",
        "outputX_rbmOne, reconstructedX_rbmOne, hiddenX_rbmOne = rbmOne.rbm_output(inputX)\n",
        "reconstructedX_rbmOne = pd.DataFrame(data=reconstructedX_rbmOne, index=train_X.index)\n",
        "for j in range(0,1):\n",
        "    example = j\n",
        "    print(\"Data generated by First RBM Layer\")\n",
        "    view_values(reconstructedX_rbmOne, train_Y, example)\n",
        "    print(\"Original Data\")\n",
        "    view_values(train_X, train_Y, example)"
      ],
      "execution_count": null,
      "outputs": [
        {
          "output_type": "stream",
          "name": "stdout",
          "text": [
            "RBM 1\n",
            "Data generated by First RBM Layer\n",
            "[[0.]\n",
            " [0.]\n",
            " [0.]\n",
            " [0.]\n",
            " [0.]\n",
            " [0.]\n",
            " [0.]\n",
            " [1.]\n",
            " [0.]\n",
            " [0.]\n",
            " [0.]\n",
            " [0.]\n",
            " [0.]\n",
            " [0.]]\n",
            "Original Data\n",
            "[[0.00000000e+00]\n",
            " [3.98406375e-03]\n",
            " [7.71604938e-04]\n",
            " [9.54434003e-01]\n",
            " [4.88400490e-03]\n",
            " [5.69800572e-03]\n",
            " [2.84463895e-02]\n",
            " [0.00000000e+00]\n",
            " [0.00000000e+00]\n",
            " [2.21874294e-04]\n",
            " [1.00000000e+00]\n",
            " [9.98865945e-01]\n",
            " [9.97131248e-01]\n",
            " [6.06385696e-02]]\n"
          ]
        }
      ]
    },
    {
      "cell_type": "code",
      "metadata": {
        "id": "uoCYLrWUpO_J",
        "colab": {
          "base_uri": "https://localhost:8080/"
        },
        "outputId": "9e139217-90bf-463a-bc67-f6391795c194"
      },
      "source": [
        "reconstructedX_rbmOne.shape"
      ],
      "execution_count": null,
      "outputs": [
        {
          "output_type": "execute_result",
          "data": {
            "text/plain": [
              "(4455, 14)"
            ]
          },
          "metadata": {},
          "execution_count": 106
        }
      ]
    },
    {
      "cell_type": "markdown",
      "metadata": {
        "id": "JRfzg8BT8rjN"
      },
      "source": [
        "### DBN\n",
        "\n",
        "A Deep Belief Network (DBN) is a multi-layer generative graphical model. DBNs have bi-directional connections (RBM-type connections) on the top layer while the bottom layers only have top-down connections. They are trained using layerwise pre-training. Pre-training occurs by training the network component by component bottom up: treating the first two layers as an RBM and training, then treating the second layer and third layer as another RBM and training for those parameters."
      ]
    },
    {
      "cell_type": "code",
      "metadata": {
        "id": "QVmB9MxHnQIB"
      },
      "source": [
        "class DBN(object):\n",
        "    def __init__(self, original_input_size, input_size, output_size, \n",
        "                 learning_rate, epochs, batchsize, rbmOne, rbmTwo, rbmThree):\n",
        "        # Define hyperparameters\n",
        "        self._original_input_size = original_input_size\n",
        "        self._input_size = input_size\n",
        "        self._output_size = output_size\n",
        "        self.learning_rate = learning_rate\n",
        "        self.epochs = epochs\n",
        "        self.batchsize = batchsize\n",
        "        self.rbmOne = rbmOne\n",
        "        self.rbmTwo = rbmTwo\n",
        "        self.rbmThree = rbmThree\n",
        "    \n",
        "        self.w = np.zeros([input_size, output_size], \"float\")\n",
        "        self.hb = np.zeros([output_size], \"float\")\n",
        "        self.vb = np.zeros([input_size], \"float\")\n",
        "    \n",
        "    def prob_h_given_v(self, visible, w, hb):\n",
        "        return tf.nn.sigmoid(tf.matmul(visible, w) + hb)\n",
        "\n",
        "    def prob_v_given_h(self, hidden, w, vb):\n",
        "        return tf.nn.sigmoid(tf.matmul(hidden, tf.transpose(w)) + vb)\n",
        "    \n",
        "    def sample_prob(self, probs):\n",
        "        return tf.nn.relu(tf.sign(probs - tf.random_uniform(tf.shape(probs))))\n",
        "\n",
        "    def train(self, X):\n",
        "        _w = tf.placeholder(\"float\", [self._input_size, self._output_size])\n",
        "        _hb = tf.placeholder(\"float\", [self._output_size])\n",
        "        _vb = tf.placeholder(\"float\", [self._input_size])\n",
        "        \n",
        "        prv_w = np.zeros([self._input_size, self._output_size], \"float\")\n",
        "        prv_hb = np.zeros([self._output_size], \"float\")\n",
        "        prv_vb = np.zeros([self._input_size], \"float\")\n",
        "        \n",
        "        cur_w = np.zeros([self._input_size, self._output_size], \"float\")\n",
        "        cur_hb = np.zeros([self._output_size], \"float\")\n",
        "        cur_vb = np.zeros([self._input_size], \"float\")\n",
        "        \n",
        "        v0 = tf.placeholder(\"float\", [None, self._original_input_size])\n",
        "\n",
        "        forwardOne = tf.nn.relu(tf.sign(tf.nn.sigmoid(tf.matmul(v0, self.rbmOne.w) + self.rbmOne.hb) - tf.random_uniform(tf.shape(tf.nn.sigmoid(tf.matmul(v0, self.rbmOne.w) + self.rbmOne.hb)))))\n",
        "        forwardTwo = tf.nn.relu(tf.sign(tf.nn.sigmoid(tf.matmul(forwardOne, self.rbmTwo.w) + self.rbmTwo.hb) - tf.random_uniform(tf.shape(tf.nn.sigmoid(tf.matmul(forwardOne, self.rbmTwo.w) + self.rbmTwo.hb)))))\n",
        "        forward = tf.nn.relu(tf.sign(tf.nn.sigmoid(tf.matmul(forwardTwo, self.rbmThree.w) + self.rbmThree.hb) - tf.random_uniform(tf.shape(tf.nn.sigmoid(tf.matmul( forwardTwo, self.rbmThree.w) + self.rbmThree.hb)))))\n",
        "        h0 = self.sample_prob(self.prob_h_given_v(forward, _w, _hb))\n",
        "        v1 = self.sample_prob(self.prob_v_given_h(h0, _w, _vb))\n",
        "        h1 = self.prob_h_given_v(v1, _w, _hb)\n",
        "        \n",
        "        positive_grad = tf.matmul(tf.transpose(forward), h0)\n",
        "        negative_grad = tf.matmul(tf.transpose(v1), h1)\n",
        "        \n",
        "        update_w = _w + self.learning_rate * (positive_grad - negative_grad) / tf.to_float(tf.shape(forward)[0])\n",
        "        update_vb = _vb +  self.learning_rate * tf.reduce_mean(forward - v1, 0)\n",
        "        update_hb = _hb +  self.learning_rate * tf.reduce_mean(h0 - h1, 0)\n",
        "        \n",
        "        backwardOne = tf.nn.relu(tf.sign(tf.nn.sigmoid(tf.matmul(v1, self.rbmThree.w.T) + self.rbmThree.vb) - tf.random_uniform(tf.shape(tf.nn.sigmoid(tf.matmul(v1, self.rbmThree.w.T) + self.rbmThree.vb)))))\n",
        "        backwardTwo = tf.nn.relu(tf.sign(tf.nn.sigmoid(tf.matmul(backwardOne, self.rbmTwo.w.T) + self.rbmTwo.vb) - tf.random_uniform(tf.shape(tf.nn.sigmoid(tf.matmul(backwardOne, self.rbmTwo.w.T) + self.rbmTwo.vb)))))\n",
        "        backward = tf.nn.relu(tf.sign(tf.nn.sigmoid(tf.matmul(backwardTwo, self.rbmOne.w.T) + self.rbmOne.vb) - tf.random_uniform(tf.shape(tf.nn.sigmoid(tf.matmul(backwardTwo, self.rbmOne.w.T) + self.rbmOne.vb)))))\n",
        "        \n",
        "        err = tf.reduce_mean(tf.square(v0 - backward))\n",
        "        error_list = []\n",
        "        \n",
        "        with tf.Session() as sess:\n",
        "            sess.run(tf.global_variables_initializer())\n",
        "\n",
        "            for epoch in range(self.epochs):\n",
        "                for start, end in zip(range(0, len(X), self.batchsize), range(self.batchsize,len(X), self.batchsize)):\n",
        "                    batch = X[start:end]\n",
        "                    cur_w = sess.run(update_w, feed_dict={v0: batch, _w: prv_w, _hb: prv_hb, _vb: prv_vb})\n",
        "                    cur_hb = sess.run(update_hb, feed_dict={v0: batch, _w:  prv_w, _hb: prv_hb, _vb: prv_vb})\n",
        "                    cur_vb = sess.run(update_vb, feed_dict={v0: batch, _w: prv_w, _hb: prv_hb, _vb: prv_vb})\n",
        "                    prv_w = cur_w\n",
        "                    prv_hb = cur_hb\n",
        "                    prv_vb = cur_vb\n",
        "                error = sess.run(err, feed_dict={v0: X, _w: cur_w, _vb: cur_vb, _hb: cur_hb})\n",
        "                print ('Epoch: %d' % (epoch+1),'reconstruction error: %f' % error)\n",
        "                error_list.append(error)\n",
        "            self.w = prv_w\n",
        "            self.hb = prv_hb\n",
        "            self.vb = prv_vb\n",
        "            return error_list\n",
        "        \n",
        "    def dbn_output(self, X):\n",
        "\n",
        "        input_X = tf.constant(X)\n",
        "        forwardOne = tf.nn.sigmoid(tf.matmul(input_X, self.rbmOne.w) + self.rbmOne.hb)\n",
        "        forwardTwo = tf.nn.sigmoid(tf.matmul(forwardOne, self.rbmTwo.w) + self.rbmTwo.hb)\n",
        "        forward = tf.nn.sigmoid(tf.matmul(forwardTwo, self.rbmThree.w) + self.rbmThree.hb)\n",
        "\n",
        "        _w = tf.constant(self.w)\n",
        "        _hb = tf.constant(self.hb)\n",
        "        _vb = tf.constant(self.vb)\n",
        "\n",
        "        out = tf.nn.sigmoid(tf.matmul(forward, _w) + _hb)\n",
        "        hiddenGen = self.sample_prob(self.prob_h_given_v(forward, _w, _hb))\n",
        "        visibleGen = self.sample_prob(self.prob_v_given_h(hiddenGen, _w, _vb))\n",
        "\n",
        "        backwardTwo = tf.nn.sigmoid(tf.matmul(visibleGen, self.rbmThree.w.T) + self.rbmThree.vb)\n",
        "        backwardOne = tf.nn.sigmoid(tf.matmul(backwardTwo, self.rbmTwo.w.T) + self.rbmTwo.vb)\n",
        "        backward = tf.nn.sigmoid(tf.matmul(backwardOne, self.rbmOne.w.T) + self.rbmOne.vb)\n",
        "\n",
        "        with tf.Session() as sess:\n",
        "            sess.run(tf.global_variables_initializer())\n",
        "            return sess.run(out), sess.run(backward)"
      ],
      "execution_count": null,
      "outputs": []
    },
    {
      "cell_type": "markdown",
      "metadata": {
        "id": "TVSsLaeh8x2h"
      },
      "source": [
        "def __init__(self, original_input_size, input_size, output_size, \n",
        "                 learning_rate, epochs, batchsize, rbmOne, rbmTwo, rbmThree):"
      ]
    },
    {
      "cell_type": "code",
      "metadata": {
        "id": "gQCf1761nP6Z"
      },
      "source": [
        "dbn = DBN(14, 12, 12, 0.02, 50, 100, rbm_list[0], rbm_list[1], rbm_list[2])"
      ],
      "execution_count": null,
      "outputs": []
    },
    {
      "cell_type": "code",
      "metadata": {
        "id": "WVXe1zJLnP39",
        "colab": {
          "base_uri": "https://localhost:8080/"
        },
        "outputId": "c9cf8242-3ccc-4c7a-a183-b4956a51c34d"
      },
      "source": [
        "inputX = np.array(inputX)\n",
        "error_list = []\n",
        "error_list = dbn.train(inputX)"
      ],
      "execution_count": null,
      "outputs": [
        {
          "output_type": "stream",
          "name": "stdout",
          "text": [
            "Epoch: 1 reconstruction error: 0.155458\n",
            "Epoch: 2 reconstruction error: 0.154670\n",
            "Epoch: 3 reconstruction error: 0.154400\n",
            "Epoch: 4 reconstruction error: 0.156037\n",
            "Epoch: 5 reconstruction error: 0.156396\n",
            "Epoch: 6 reconstruction error: 0.156438\n",
            "Epoch: 7 reconstruction error: 0.155375\n",
            "Epoch: 8 reconstruction error: 0.156715\n",
            "Epoch: 9 reconstruction error: 0.158173\n",
            "Epoch: 10 reconstruction error: 0.155541\n",
            "Epoch: 11 reconstruction error: 0.153878\n",
            "Epoch: 12 reconstruction error: 0.156690\n",
            "Epoch: 13 reconstruction error: 0.156560\n",
            "Epoch: 14 reconstruction error: 0.155136\n",
            "Epoch: 15 reconstruction error: 0.157526\n",
            "Epoch: 16 reconstruction error: 0.157989\n",
            "Epoch: 17 reconstruction error: 0.155396\n",
            "Epoch: 18 reconstruction error: 0.154696\n",
            "Epoch: 19 reconstruction error: 0.156323\n",
            "Epoch: 20 reconstruction error: 0.153819\n",
            "Epoch: 21 reconstruction error: 0.155798\n",
            "Epoch: 22 reconstruction error: 0.158309\n",
            "Epoch: 23 reconstruction error: 0.156548\n",
            "Epoch: 24 reconstruction error: 0.157052\n",
            "Epoch: 25 reconstruction error: 0.157551\n",
            "Epoch: 26 reconstruction error: 0.154682\n",
            "Epoch: 27 reconstruction error: 0.157313\n",
            "Epoch: 28 reconstruction error: 0.158157\n",
            "Epoch: 29 reconstruction error: 0.156279\n",
            "Epoch: 30 reconstruction error: 0.156463\n",
            "Epoch: 31 reconstruction error: 0.155980\n",
            "Epoch: 32 reconstruction error: 0.156045\n",
            "Epoch: 33 reconstruction error: 0.157615\n",
            "Epoch: 34 reconstruction error: 0.157562\n",
            "Epoch: 35 reconstruction error: 0.156813\n",
            "Epoch: 36 reconstruction error: 0.155850\n",
            "Epoch: 37 reconstruction error: 0.156981\n",
            "Epoch: 38 reconstruction error: 0.155256\n",
            "Epoch: 39 reconstruction error: 0.156186\n",
            "Epoch: 40 reconstruction error: 0.156316\n",
            "Epoch: 41 reconstruction error: 0.157427\n",
            "Epoch: 42 reconstruction error: 0.156350\n",
            "Epoch: 43 reconstruction error: 0.155333\n",
            "Epoch: 44 reconstruction error: 0.155709\n",
            "Epoch: 45 reconstruction error: 0.154821\n",
            "Epoch: 46 reconstruction error: 0.158003\n",
            "Epoch: 47 reconstruction error: 0.155750\n",
            "Epoch: 48 reconstruction error: 0.157711\n",
            "Epoch: 49 reconstruction error: 0.156749\n",
            "Epoch: 50 reconstruction error: 0.157612\n"
          ]
        }
      ]
    },
    {
      "cell_type": "code",
      "metadata": {
        "id": "u0hE1XR0nPum",
        "colab": {
          "base_uri": "https://localhost:8080/",
          "height": 296
        },
        "outputId": "093cc73d-ac50-4180-a956-05f0548e6694"
      },
      "source": [
        "print(\"DBN\")\n",
        "pd.Series(error_list).plot(logy=False)\n",
        "plt.xlabel(\"Epoch\")\n",
        "plt.ylabel(\"Reconstruction Error\")\n",
        "plt.show()"
      ],
      "execution_count": null,
      "outputs": [
        {
          "output_type": "stream",
          "name": "stdout",
          "text": [
            "DBN\n"
          ]
        },
        {
          "output_type": "display_data",
          "data": {
            "image/png": "[encoded data removed]",
            "text/plain": [
              "<Figure size 432x288 with 1 Axes>"
            ]
          },
          "metadata": {
            "needs_background": "light"
          }
        }
      ]
    },
    {
      "cell_type": "code",
      "metadata": {
        "id": "WrcGJYOY9Dm7",
        "colab": {
          "base_uri": "https://localhost:8080/"
        },
        "outputId": "7a9844af-28a8-4ab3-f420-d46118e3993d"
      },
      "source": [
        "train_X.shape\n",
        "train_Y.head"
      ],
      "execution_count": null,
      "outputs": [
        {
          "output_type": "execute_result",
          "data": {
            "text/plain": [
              "<bound method NDFrame.head of 0       0\n",
              "1       0\n",
              "2       0\n",
              "3       0\n",
              "4       1\n",
              "       ..\n",
              "4450    1\n",
              "4451    0\n",
              "4452    1\n",
              "4453    0\n",
              "4454    0\n",
              "Name: bug, Length: 4455, dtype: int64>"
            ]
          },
          "metadata": {},
          "execution_count": 111
        }
      ]
    },
    {
      "cell_type": "markdown",
      "metadata": {
        "id": "UKhyC3ZJVoQW"
      },
      "source": [
        "TESTING\n",
        "\n"
      ]
    },
    {
      "cell_type": "code",
      "metadata": {
        "id": "2y99247TV6eq",
        "colab": {
          "base_uri": "https://localhost:8080/"
        },
        "outputId": "fdf6422f-4cc9-4456-c46f-1f14fefd09c5"
      },
      "source": [
        "train_X.shape\n",
        "# train_Y.shape"
      ],
      "execution_count": null,
      "outputs": [
        {
          "output_type": "execute_result",
          "data": {
            "text/plain": [
              "(4455, 14)"
            ]
          },
          "metadata": {},
          "execution_count": 112
        }
      ]
    },
    {
      "cell_type": "code",
      "metadata": {
        "id": "-yVBCHwkXw91",
        "colab": {
          "base_uri": "https://localhost:8080/"
        },
        "outputId": "01e281d6-14cc-42da-dc28-c33fff528a4e"
      },
      "source": [
        "print('DBN 1')\n",
        "outputX_dbn, reconstructedX_dbn = dbn.dbn_output(inputX)"
      ],
      "execution_count": null,
      "outputs": [
        {
          "output_type": "stream",
          "name": "stdout",
          "text": [
            "DBN 1\n"
          ]
        }
      ]
    },
    {
      "cell_type": "markdown",
      "metadata": {
        "id": "geqQzlYJggJO"
      },
      "source": [
        "###**Classifier**(Logistic)\n"
      ]
    },
    {
      "cell_type": "markdown",
      "metadata": {
        "id": "XnD1eSoctpxd"
      },
      "source": [
        "Used outputX_dbn as the Input for the Classifer"
      ]
    },
    {
      "cell_type": "code",
      "metadata": {
        "id": "LcUnoCvTgej0",
        "colab": {
          "base_uri": "https://localhost:8080/"
        },
        "outputId": "00956158-c314-4e1b-d510-26f761911afb"
      },
      "source": [
        "Y_Train = train_Y.iloc[:4000].values\n",
        "Y_Train.shape"
      ],
      "execution_count": null,
      "outputs": [
        {
          "output_type": "execute_result",
          "data": {
            "text/plain": [
              "(4000,)"
            ]
          },
          "metadata": {},
          "execution_count": 114
        }
      ]
    },
    {
      "cell_type": "markdown",
      "metadata": {
        "id": "vwz4lT3G0CpZ"
      },
      "source": [
        "Logistic Regression"
      ]
    },
    {
      "cell_type": "code",
      "metadata": {
        "id": "ej6X_Mw5zoYG"
      },
      "source": [
        "def sigmoid(x):\n",
        "    return 1.0/(1.0 + np.exp(-x))\n",
        "\n",
        "def hypothesis(X, theta) :\n",
        "    #returns the dot product of vectors X and theta\n",
        "    return sigmoid(np.dot(X, theta))\n",
        "\n",
        "def error(X,y,theta):\n",
        "    hi = hypothesis(X,theta)\n",
        "    error= -1* np.mean ( y * np.log(hi) + ( ( 1 - y ) * (np.log( 1 - hi )) ) )\n",
        "\n",
        "    return error"
      ],
      "execution_count": null,
      "outputs": []
    },
    {
      "cell_type": "code",
      "metadata": {
        "id": "BwzVbQ4k0F74"
      },
      "source": [
        "def gradient(X,y,theta):\n",
        "    hi = hypothesis(X,theta)\n",
        "    #X.T :transpose of X\n",
        "    grad = np.dot(X.T,(y-hi))\n",
        "    m=X.shape[0]\n",
        "\n",
        "    return grad/m\n",
        "\n",
        "def gradient_descent(X,y,lr=0.02,max_itr=500):\n",
        "    \n",
        "    n=X.shape[1] \n",
        "    theta = np.zeros((n,1))\n",
        "    \n",
        "    error_list= []\n",
        "    \n",
        "    for i in range(max_itr):\n",
        "        err = error(X,y,theta)\n",
        "        error_list.append(err)\n",
        "\n",
        "        grad = gradient(X,y,theta)\n",
        "        #update theta\n",
        "        theta = theta + lr * grad\n",
        "    return (theta, error_list)"
      ],
      "execution_count": null,
      "outputs": []
    },
    {
      "cell_type": "code",
      "metadata": {
        "id": "wed-jco60HTJ"
      },
      "source": [
        "ones = np.ones((outputX_dbn.shape[0],1))\n",
        "X_New_Train = np.hstack((ones,outputX_dbn))\n",
        "X_New_Train = X_New_Train[:4000,:]\n",
        "Y_Train= Y_Train.reshape((-1,1))"
      ],
      "execution_count": null,
      "outputs": []
    },
    {
      "cell_type": "code",
      "metadata": {
        "id": "9l-w-Wjt82II",
        "colab": {
          "base_uri": "https://localhost:8080/"
        },
        "outputId": "279ce289-764d-4d27-c135-d09aa9c92d80"
      },
      "source": [
        "Y_Train.shape"
      ],
      "execution_count": null,
      "outputs": [
        {
          "output_type": "execute_result",
          "data": {
            "text/plain": [
              "(4000, 1)"
            ]
          },
          "metadata": {},
          "execution_count": 118
        }
      ]
    },
    {
      "cell_type": "code",
      "metadata": {
        "id": "1XwlUmRp0RVg"
      },
      "source": [
        "theta, error_list = gradient_descent(X_New_Train, Y_Train)"
      ],
      "execution_count": null,
      "outputs": []
    },
    {
      "cell_type": "code",
      "metadata": {
        "id": "B3U0Vuef2V0X",
        "colab": {
          "base_uri": "https://localhost:8080/",
          "height": 282
        },
        "outputId": "a6a2e44f-7c5c-49fb-8d26-9dfedcf79be6"
      },
      "source": [
        "plt.plot(error_list)"
      ],
      "execution_count": null,
      "outputs": [
        {
          "output_type": "execute_result",
          "data": {
            "text/plain": [
              "[<matplotlib.lines.Line2D at 0x7f408d94fcd0>]"
            ]
          },
          "metadata": {},
          "execution_count": 120
        },
        {
          "output_type": "display_data",
          "data": {
            "image/png": "[encoded data removed]",
            "text/plain": [
              "<Figure size 432x288 with 1 Axes>"
            ]
          },
          "metadata": {
            "needs_background": "light"
          }
        }
      ]
    },
    {
      "cell_type": "code",
      "metadata": {
        "id": "l5PAC2os78Mn",
        "colab": {
          "base_uri": "https://localhost:8080/"
        },
        "outputId": "64b4d433-eec9-469a-e98a-a27c2aa2d134"
      },
      "source": [
        "theta.shape"
      ],
      "execution_count": null,
      "outputs": [
        {
          "output_type": "execute_result",
          "data": {
            "text/plain": [
              "(13, 1)"
            ]
          },
          "metadata": {},
          "execution_count": 121
        }
      ]
    },
    {
      "cell_type": "code",
      "metadata": {
        "colab": {
          "base_uri": "https://localhost:8080/"
        },
        "id": "n0kS2VcgcX03",
        "outputId": "219cad47-a62d-4602-fee4-4026c1beb817"
      },
      "source": [
        "print(theta)"
      ],
      "execution_count": null,
      "outputs": [
        {
          "output_type": "stream",
          "name": "stdout",
          "text": [
            "[[-0.19467426]\n",
            " [-0.10421404]\n",
            " [-0.09983098]\n",
            " [-0.10197391]\n",
            " [-0.10044319]\n",
            " [-0.10766178]\n",
            " [-0.10890671]\n",
            " [-0.09025086]\n",
            " [-0.09504226]\n",
            " [-0.10511877]\n",
            " [-0.12076287]\n",
            " [-0.09634728]\n",
            " [-0.10101034]]\n"
          ]
        }
      ]
    },
    {
      "cell_type": "code",
      "metadata": {
        "id": "Xw1XDeSE0Sr5"
      },
      "source": [
        "def predict(X,theta):\n",
        "    h = hypothesis(X, theta)\n",
        "    output = np.zeros(h.shape)\n",
        "    output[h>=0.5] = 1\n",
        "    output = output.astype('int')\n",
        "    return output\n",
        "\n",
        "XT_preds = predict(X_New_Train,theta)"
      ],
      "execution_count": null,
      "outputs": []
    },
    {
      "cell_type": "markdown",
      "metadata": {
        "id": "AoOAqVKmEEB0"
      },
      "source": [
        "Predict"
      ]
    },
    {
      "cell_type": "code",
      "metadata": {
        "colab": {
          "base_uri": "https://localhost:8080/"
        },
        "id": "4dZoVMzjD_OV",
        "outputId": "3e60121a-f262-42c0-e482-504d646b6c53"
      },
      "source": [
        "print(XT_preds)"
      ],
      "execution_count": null,
      "outputs": [
        {
          "output_type": "stream",
          "name": "stdout",
          "text": [
            "[[0]\n",
            " [0]\n",
            " [0]\n",
            " ...\n",
            " [0]\n",
            " [0]\n",
            " [0]]\n"
          ]
        }
      ]
    },
    {
      "cell_type": "code",
      "metadata": {
        "id": "2AgIi_WA0TL1"
      },
      "source": [
        "def accuracy(actual, preds):\n",
        "\n",
        "    actual = actual.astype('int')\n",
        "    actual = actual.reshape((-1,1))\n",
        "\n",
        "    acc= np.sum(actual==preds)/actual.shape[0]\n",
        "\n",
        "    return acc*100"
      ],
      "execution_count": null,
      "outputs": []
    },
    {
      "cell_type": "markdown",
      "metadata": {
        "id": "_MjGgOMwt1_Z"
      },
      "source": [
        "### Accuracy"
      ]
    },
    {
      "cell_type": "code",
      "metadata": {
        "id": "TE-YFxKY0UXt",
        "colab": {
          "base_uri": "https://localhost:8080/"
        },
        "outputId": "63d32a46-034c-485f-9b15-44ebeb910b5a"
      },
      "source": [
        "train_acc= accuracy(Y_Train,XT_preds)\n",
        "print(train_acc)"
      ],
      "execution_count": null,
      "outputs": [
        {
          "output_type": "stream",
          "name": "stdout",
          "text": [
            "70.0\n"
          ]
        }
      ]
    },
    {
      "cell_type": "markdown",
      "metadata": {
        "id": "xJ1t30FdBi7T"
      },
      "source": [
        "### Evaluation Metrics"
      ]
    },
    {
      "cell_type": "code",
      "metadata": {
        "id": "X1u_Xx5eAiOi"
      },
      "source": [
        " from sklearn.metrics import f1_score\n",
        " from sklearn.metrics import recall_score\n",
        " from sklearn.metrics import precision_score"
      ],
      "execution_count": null,
      "outputs": []
    },
    {
      "cell_type": "code",
      "metadata": {
        "colab": {
          "base_uri": "https://localhost:8080/"
        },
        "id": "Jtyk8UIUBpSy",
        "outputId": "c3eb69bb-f61c-441f-e40b-f70827309420"
      },
      "source": [
        "print(f1_score(Y_Train,XT_preds,average='micro'))"
      ],
      "execution_count": null,
      "outputs": [
        {
          "output_type": "stream",
          "name": "stdout",
          "text": [
            "0.7\n"
          ]
        }
      ]
    }
  ]
}